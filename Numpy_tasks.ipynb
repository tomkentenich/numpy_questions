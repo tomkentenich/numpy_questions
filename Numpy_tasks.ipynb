{
  "cells": [
    {
      "cell_type": "markdown",
      "metadata": {
        "id": "4kmY3vv9OCze"
      },
      "source": [
        "# Numpy\n",
        "\n"
      ]
    },
    {
      "cell_type": "markdown",
      "metadata": {
        "id": "a8qLkZ8ZOCzh"
      },
      "source": [
        "#### 1. Import the numpy package under the name `np` (★☆☆) \n",
        "(**hint**: import … as …)"
      ]
    },
    {
      "cell_type": "code",
      "execution_count": 43,
      "metadata": {
        "collapsed": true,
        "id": "92dq_19qOCzi"
      },
      "outputs": [],
      "source": [
        "import numpy as np"
      ]
    },
    {
      "cell_type": "markdown",
      "metadata": {
        "id": "qDk9YasTOCzi"
      },
      "source": [
        "#### 2. Print the numpy version and the configuration (★☆☆) \n",
        "(**hint**: np.\\_\\_version\\_\\_, np.show\\_config)"
      ]
    },
    {
      "cell_type": "code",
      "execution_count": 44,
      "metadata": {
        "id": "MiUkyiF7OCzj",
        "colab": {
          "base_uri": "https://localhost:8080/",
          "height": 35
        },
        "outputId": "8db0cbc3-ddb5-44d0-dd9c-babc28017bb3"
      },
      "outputs": [
        {
          "output_type": "execute_result",
          "data": {
            "text/plain": [
              "'1.21.5'"
            ],
            "application/vnd.google.colaboratory.intrinsic+json": {
              "type": "string"
            }
          },
          "metadata": {},
          "execution_count": 44
        }
      ],
      "source": [
        "np.__version__"
      ]
    },
    {
      "cell_type": "code",
      "execution_count": 45,
      "metadata": {
        "id": "JWJSMN4HOCzj",
        "colab": {
          "base_uri": "https://localhost:8080/"
        },
        "outputId": "6c43d50e-d9d4-4462-f415-9d36c0d9a133"
      },
      "outputs": [
        {
          "output_type": "execute_result",
          "data": {
            "text/plain": [
              "<function numpy.__config__.show>"
            ]
          },
          "metadata": {},
          "execution_count": 45
        }
      ],
      "source": [
        "np.show_config"
      ]
    },
    {
      "cell_type": "markdown",
      "metadata": {
        "id": "vIngNQiKOCzj"
      },
      "source": [
        "#### 3. Create a null vector of size 10 (★☆☆) \n",
        "(**hint**: np.zeros)"
      ]
    },
    {
      "cell_type": "code",
      "source": [
        "np.zeros(10)"
      ],
      "metadata": {
        "colab": {
          "base_uri": "https://localhost:8080/"
        },
        "id": "UZCYYiCCevJN",
        "outputId": "71bd910b-37f7-4588-cee6-026354370112"
      },
      "execution_count": 46,
      "outputs": [
        {
          "output_type": "execute_result",
          "data": {
            "text/plain": [
              "array([0., 0., 0., 0., 0., 0., 0., 0., 0., 0.])"
            ]
          },
          "metadata": {},
          "execution_count": 46
        }
      ]
    },
    {
      "cell_type": "markdown",
      "metadata": {
        "id": "bZKOL2kjOCzk"
      },
      "source": [
        "#### 4.  How to find the memory size of any array (★☆☆) \n",
        "(**hint**: size, itemsize)"
      ]
    },
    {
      "cell_type": "code",
      "source": [
        "np.size((3,5,2))"
      ],
      "metadata": {
        "colab": {
          "base_uri": "https://localhost:8080/"
        },
        "id": "9FM-bCJEeR-0",
        "outputId": "370378eb-b510-44b0-f67f-fc6bc0ebbc28"
      },
      "execution_count": 47,
      "outputs": [
        {
          "output_type": "execute_result",
          "data": {
            "text/plain": [
              "3"
            ]
          },
          "metadata": {},
          "execution_count": 47
        }
      ]
    },
    {
      "cell_type": "code",
      "source": [
        "x=np.array([4,5,6],dtype=np.float32)\n",
        "x.itemsize"
      ],
      "metadata": {
        "colab": {
          "base_uri": "https://localhost:8080/"
        },
        "id": "Zxh31iwQeUzc",
        "outputId": "bd19e178-ca9f-4673-e8b6-a53cd5ea6f95"
      },
      "execution_count": 48,
      "outputs": [
        {
          "output_type": "execute_result",
          "data": {
            "text/plain": [
              "4"
            ]
          },
          "metadata": {},
          "execution_count": 48
        }
      ]
    },
    {
      "cell_type": "markdown",
      "metadata": {
        "id": "kpLlf7J1OCzl"
      },
      "source": [
        "#### 5.  How to get the documentation of the numpy add function from the command line? (★☆☆) \n",
        "(**hint**: np.info)"
      ]
    },
    {
      "cell_type": "code",
      "source": [
        "#python -c \"import numpy; numpy.info(numpy.add)\""
      ],
      "metadata": {
        "id": "3r5eEI3qhImE"
      },
      "execution_count": 49,
      "outputs": []
    },
    {
      "cell_type": "code",
      "execution_count": 50,
      "metadata": {
        "id": "yGhntiiROCzk",
        "colab": {
          "base_uri": "https://localhost:8080/"
        },
        "outputId": "d5cb2371-196c-48f6-bd11-15a107a66d39"
      },
      "outputs": [
        {
          "output_type": "stream",
          "name": "stdout",
          "text": [
            "class:  ndarray\n",
            "shape:  (2, 3, 3)\n",
            "strides:  (72, 24, 8)\n",
            "itemsize:  8\n",
            "aligned:  True\n",
            "contiguous:  True\n",
            "fortran:  False\n",
            "data pointer: 0x55d66a550c60\n",
            "byteorder:  little\n",
            "byteswap:  False\n",
            "type: float64\n"
          ]
        }
      ],
      "source": [
        "arr=np.zeros((2,3,3))\n",
        "np.info(arr)"
      ]
    },
    {
      "cell_type": "markdown",
      "metadata": {
        "id": "ZumihvnHOCzl"
      },
      "source": [
        "#### 6.  Create a null vector of size 10 but the fifth value which is 1 (★☆☆) \n",
        "(**hint**: array\\[4\\])"
      ]
    },
    {
      "cell_type": "code",
      "execution_count": 51,
      "metadata": {
        "id": "1Bq3mNAQOCzl",
        "colab": {
          "base_uri": "https://localhost:8080/"
        },
        "outputId": "78f30990-eb35-4d9f-c423-7dec3ac260d0"
      },
      "outputs": [
        {
          "output_type": "execute_result",
          "data": {
            "text/plain": [
              "array([0., 0., 0., 0., 1., 0., 0., 0., 0., 0.])"
            ]
          },
          "metadata": {},
          "execution_count": 51
        }
      ],
      "source": [
        "x=np.zeros(10)\n",
        "x[4]=1\n",
        "x"
      ]
    },
    {
      "cell_type": "markdown",
      "metadata": {
        "id": "DsRsIok6OCzm"
      },
      "source": [
        "#### 7.  Create a vector with values ranging from 10 to 49 (★☆☆) \n",
        "(**hint**: np.arange)"
      ]
    },
    {
      "cell_type": "code",
      "execution_count": 52,
      "metadata": {
        "id": "xmrEwB1oOCzm",
        "colab": {
          "base_uri": "https://localhost:8080/"
        },
        "outputId": "a1b9075e-4993-4999-ab00-e2bba074c7ca"
      },
      "outputs": [
        {
          "output_type": "execute_result",
          "data": {
            "text/plain": [
              "array([10, 11, 12, 13, 14, 15, 16, 17, 18, 19, 20, 21, 22, 23, 24, 25, 26,\n",
              "       27, 28, 29, 30, 31, 32, 33, 34, 35, 36, 37, 38, 39, 40, 41, 42, 43,\n",
              "       44, 45, 46, 47, 48, 49])"
            ]
          },
          "metadata": {},
          "execution_count": 52
        }
      ],
      "source": [
        "np.arange(10,50)"
      ]
    },
    {
      "cell_type": "markdown",
      "metadata": {
        "id": "uJNene3NOCzm"
      },
      "source": [
        "#### 8.  Reverse a vector (first element becomes last) (★☆☆) \n",
        "(**hint**: array\\[::-1\\])"
      ]
    },
    {
      "cell_type": "code",
      "execution_count": 53,
      "metadata": {
        "id": "2HJp9PCzOCzm",
        "colab": {
          "base_uri": "https://localhost:8080/"
        },
        "outputId": "43f33586-cabf-48c9-a527-8325fb4ee482"
      },
      "outputs": [
        {
          "output_type": "execute_result",
          "data": {
            "text/plain": [
              "array([10,  9,  8,  7,  6,  5,  4,  3,  2,  1,  0])"
            ]
          },
          "metadata": {},
          "execution_count": 53
        }
      ],
      "source": [
        "x=np.arange(11)\n",
        "x[::-1]"
      ]
    },
    {
      "cell_type": "markdown",
      "metadata": {
        "id": "kObGggeWOCzn"
      },
      "source": [
        "#### 9.  Create a 3x3 matrix with values ranging from 0 to 8 (★☆☆) \n",
        "(**hint**: reshape)"
      ]
    },
    {
      "cell_type": "code",
      "execution_count": 54,
      "metadata": {
        "id": "fi5WwHW2OCzn",
        "colab": {
          "base_uri": "https://localhost:8080/"
        },
        "outputId": "9df4f3d2-5e48-489d-b28e-f7b34d7d1298"
      },
      "outputs": [
        {
          "output_type": "execute_result",
          "data": {
            "text/plain": [
              "array([[0, 1, 2],\n",
              "       [3, 4, 5],\n",
              "       [6, 7, 8]])"
            ]
          },
          "metadata": {},
          "execution_count": 54
        }
      ],
      "source": [
        "np.arange(0,9).reshape(3,3)"
      ]
    },
    {
      "cell_type": "markdown",
      "metadata": {
        "id": "VT6WZw9wOCzn"
      },
      "source": [
        "#### 10. Find indices of non-zero elements from \\[1,2,0,0,4,0\\] (★☆☆) \n",
        "(**hint**: np.nonzero)"
      ]
    },
    {
      "cell_type": "code",
      "execution_count": 55,
      "metadata": {
        "id": "CTpE8iOgOCzn",
        "colab": {
          "base_uri": "https://localhost:8080/"
        },
        "outputId": "3822e7ec-2d53-4517-cb12-7a3932009d2f"
      },
      "outputs": [
        {
          "output_type": "execute_result",
          "data": {
            "text/plain": [
              "(array([0, 1, 4]),)"
            ]
          },
          "metadata": {},
          "execution_count": 55
        }
      ],
      "source": [
        "x=np.array([1,2,0,0,4,0])\n",
        "np.nonzero(x)"
      ]
    },
    {
      "cell_type": "markdown",
      "metadata": {
        "id": "pCePcgzdOCzn"
      },
      "source": [
        "#### 11. Create a 3x3 identity matrix (★☆☆) \n",
        "(**hint**: np.eye)"
      ]
    },
    {
      "cell_type": "code",
      "execution_count": 56,
      "metadata": {
        "id": "wN65xq98OCzo",
        "colab": {
          "base_uri": "https://localhost:8080/"
        },
        "outputId": "c89c6156-4d30-43d1-9957-8a0bc6204250"
      },
      "outputs": [
        {
          "output_type": "execute_result",
          "data": {
            "text/plain": [
              "array([[1., 0., 0.],\n",
              "       [0., 1., 0.],\n",
              "       [0., 0., 1.]])"
            ]
          },
          "metadata": {},
          "execution_count": 56
        }
      ],
      "source": [
        "np.eye(3,3)"
      ]
    },
    {
      "cell_type": "markdown",
      "metadata": {
        "id": "sHZV2dcIOCzo"
      },
      "source": [
        "#### 12. Create a 3x3x3 array with random values (★☆☆) \n",
        "(**hint**: np.random.random)"
      ]
    },
    {
      "cell_type": "code",
      "execution_count": 57,
      "metadata": {
        "collapsed": true,
        "id": "cDyGaiTVOCzo",
        "colab": {
          "base_uri": "https://localhost:8080/"
        },
        "outputId": "00d03f6e-8977-464d-cfa3-079f7805c078"
      },
      "outputs": [
        {
          "output_type": "execute_result",
          "data": {
            "text/plain": [
              "array([[[0.46135458, 0.04593898, 0.91456689],\n",
              "        [0.08468692, 0.41342857, 0.97627277],\n",
              "        [0.61687253, 0.00491557, 0.63946033]],\n",
              "\n",
              "       [[0.52484074, 0.96564283, 0.9989152 ],\n",
              "        [0.60177479, 0.14212545, 0.77164812],\n",
              "        [0.46905459, 0.21423035, 0.04900481]],\n",
              "\n",
              "       [[0.77210612, 0.92063503, 0.31104792],\n",
              "        [0.01857352, 0.42308079, 0.38016711],\n",
              "        [0.28544403, 0.08240427, 0.76585011]]])"
            ]
          },
          "metadata": {},
          "execution_count": 57
        }
      ],
      "source": [
        "np.random.random((3,3,3))"
      ]
    },
    {
      "cell_type": "markdown",
      "metadata": {
        "id": "nbFG0p0iOCzo"
      },
      "source": [
        "#### 13. Create a 10x10 array with random values and find the minimum and maximum values (★☆☆) \n",
        "(**hint**: min, max)"
      ]
    },
    {
      "cell_type": "code",
      "execution_count": 58,
      "metadata": {
        "id": "hmCaqpHEOCzo",
        "colab": {
          "base_uri": "https://localhost:8080/"
        },
        "outputId": "dddba463-2023-42be-c8b1-b1588a74b50a"
      },
      "outputs": [
        {
          "output_type": "stream",
          "name": "stdout",
          "text": [
            "[[[10 17  1  5 27 20 21 26 10  8]\n",
            "  [25 11 27 25  1 10 24 19 21  5]\n",
            "  [28 17  9 22 22  7 13 23 14  2]\n",
            "  [27 22  8 20 18  6 28 13 26  2]\n",
            "  [10 20  4 23 15 22  4  7  3 26]\n",
            "  [10 15 20 28 24 15  8 26 16  6]\n",
            "  [14  5  2 18  4  2  2 27 20 17]\n",
            "  [20 26 26 18 19  3 18  5 17 18]\n",
            "  [28 25 20  3 13 17 25 24  9 24]\n",
            "  [ 7 19 29 10 25 28  9  1  9 15]]]\n",
            "29\n",
            "1\n"
          ]
        }
      ],
      "source": [
        "a=np.random.randint(1,high=30,size=(1,10,10))\n",
        "print(a)\n",
        "print(np.max(a))\n",
        "print(np.min(a))"
      ]
    },
    {
      "cell_type": "markdown",
      "metadata": {
        "id": "43iAnwdXOCzo"
      },
      "source": [
        "#### 14. Create a random vector of size 30 and find the mean value (★☆☆) \n",
        "(**hint**: mean)"
      ]
    },
    {
      "cell_type": "code",
      "execution_count": 59,
      "metadata": {
        "id": "3iAmR_ynOCzp",
        "colab": {
          "base_uri": "https://localhost:8080/"
        },
        "outputId": "b395c912-ea9f-4e78-e381-f5e3855d0dce"
      },
      "outputs": [
        {
          "output_type": "stream",
          "name": "stdout",
          "text": [
            "[[[ 3  4 22]\n",
            "  [17 17 25]\n",
            "  [ 1 17 23]]]\n"
          ]
        },
        {
          "output_type": "execute_result",
          "data": {
            "text/plain": [
              "14.333333333333334"
            ]
          },
          "metadata": {},
          "execution_count": 59
        }
      ],
      "source": [
        "a=np.random.randint(1,high=30,size=(1,3,3))\n",
        "print(a)\n",
        "a.mean()"
      ]
    },
    {
      "cell_type": "markdown",
      "metadata": {
        "id": "1eMsMEXDOCzp"
      },
      "source": [
        "#### 15. Create a 2d array with 1 on the border and 0 inside (★☆☆) \n",
        "(**hint**: array\\[1:-1, 1:-1\\])"
      ]
    },
    {
      "cell_type": "code",
      "execution_count": 60,
      "metadata": {
        "id": "TU84d_xTOCzp",
        "colab": {
          "base_uri": "https://localhost:8080/"
        },
        "outputId": "5e479e9b-fe71-45e4-ffaa-41ff274bcc4d"
      },
      "outputs": [
        {
          "output_type": "stream",
          "name": "stdout",
          "text": [
            "[[1. 1. 1. 1. 1. 1. 1. 1. 1. 1.]\n",
            " [1. 0. 0. 0. 0. 0. 0. 0. 0. 1.]\n",
            " [1. 0. 0. 0. 0. 0. 0. 0. 0. 1.]\n",
            " [1. 0. 0. 0. 0. 0. 0. 0. 0. 1.]\n",
            " [1. 0. 0. 0. 0. 0. 0. 0. 0. 1.]\n",
            " [1. 0. 0. 0. 0. 0. 0. 0. 0. 1.]\n",
            " [1. 0. 0. 0. 0. 0. 0. 0. 0. 1.]\n",
            " [1. 0. 0. 0. 0. 0. 0. 0. 0. 1.]\n",
            " [1. 0. 0. 0. 0. 0. 0. 0. 0. 1.]\n",
            " [1. 1. 1. 1. 1. 1. 1. 1. 1. 1.]]\n"
          ]
        }
      ],
      "source": [
        "a=np.ones((10,10))\n",
        "a[1:-1,1:-1]=0\n",
        "print(a)"
      ]
    },
    {
      "cell_type": "markdown",
      "metadata": {
        "id": "-DBhSxiHOCzp"
      },
      "source": [
        "#### 16. How to add a border (filled with 0's) around an existing array? (★☆☆) \n",
        "(**hint**: np.pad)"
      ]
    },
    {
      "cell_type": "code",
      "execution_count": 61,
      "metadata": {
        "id": "dwCXfPnCOCzp",
        "colab": {
          "base_uri": "https://localhost:8080/"
        },
        "outputId": "0f1e7871-67af-40b2-9deb-7fcee12a0bf5"
      },
      "outputs": [
        {
          "output_type": "execute_result",
          "data": {
            "text/plain": [
              "array([[0., 0., 0., 0., 0., 0., 0., 0., 0., 0., 0., 0.],\n",
              "       [0., 1., 1., 1., 1., 1., 1., 1., 1., 1., 1., 0.],\n",
              "       [0., 1., 1., 1., 1., 1., 1., 1., 1., 1., 1., 0.],\n",
              "       [0., 1., 1., 1., 1., 1., 1., 1., 1., 1., 1., 0.],\n",
              "       [0., 1., 1., 1., 1., 1., 1., 1., 1., 1., 1., 0.],\n",
              "       [0., 1., 1., 1., 1., 1., 1., 1., 1., 1., 1., 0.],\n",
              "       [0., 1., 1., 1., 1., 1., 1., 1., 1., 1., 1., 0.],\n",
              "       [0., 1., 1., 1., 1., 1., 1., 1., 1., 1., 1., 0.],\n",
              "       [0., 1., 1., 1., 1., 1., 1., 1., 1., 1., 1., 0.],\n",
              "       [0., 1., 1., 1., 1., 1., 1., 1., 1., 1., 1., 0.],\n",
              "       [0., 1., 1., 1., 1., 1., 1., 1., 1., 1., 1., 0.],\n",
              "       [0., 0., 0., 0., 0., 0., 0., 0., 0., 0., 0., 0.]])"
            ]
          },
          "metadata": {},
          "execution_count": 61
        }
      ],
      "source": [
        "a=np.ones((10,10))\n",
        "np.pad(a,1)"
      ]
    },
    {
      "cell_type": "markdown",
      "metadata": {
        "id": "jlmwMD6lOCzp"
      },
      "source": [
        "#### 17. What is the result of the following expression? (★☆☆) \n",
        "(**hint**: NaN = not a number, inf = infinity)"
      ]
    },
    {
      "cell_type": "markdown",
      "metadata": {
        "id": "U_pFm25lOCzp"
      },
      "source": [
        "```python\n",
        "0 * np.nan\n",
        "np.nan == np.nan\n",
        "np.inf > np.nan\n",
        "np.nan - np.nan\n",
        "0.3 == 3 * 0.1\n",
        "```"
      ]
    },
    {
      "cell_type": "code",
      "execution_count": 62,
      "metadata": {
        "id": "bvAiltbhOCzq",
        "colab": {
          "base_uri": "https://localhost:8080/"
        },
        "outputId": "0904a4a9-6a1d-4f91-9cf1-3102e546dd0b"
      },
      "outputs": [
        {
          "output_type": "execute_result",
          "data": {
            "text/plain": [
              "False"
            ]
          },
          "metadata": {},
          "execution_count": 62
        }
      ],
      "source": [
        "0 * np.nan\n",
        "np.nan == np.nan\n",
        "np.inf > np.nan\n",
        "np.nan - np.nan\n",
        "0.3 == 3 * 0.1"
      ]
    },
    {
      "cell_type": "markdown",
      "metadata": {
        "id": "vyHtRbKpOCzq"
      },
      "source": [
        "#### 18. Create a 5x5 matrix with values 1,2,3,4 just below the diagonal (★☆☆) \n",
        "(**hint**: np.diag)"
      ]
    },
    {
      "cell_type": "code",
      "execution_count": 63,
      "metadata": {
        "id": "ovV3-PwiOCzq",
        "colab": {
          "base_uri": "https://localhost:8080/"
        },
        "outputId": "8ae8e9b1-8938-4089-94fc-73bf31f0661e"
      },
      "outputs": [
        {
          "output_type": "execute_result",
          "data": {
            "text/plain": [
              "array([[1, 0, 0, 0, 0],\n",
              "       [0, 2, 0, 0, 0],\n",
              "       [0, 0, 3, 0, 0],\n",
              "       [0, 0, 0, 4, 0],\n",
              "       [0, 0, 0, 0, 5]])"
            ]
          },
          "metadata": {},
          "execution_count": 63
        }
      ],
      "source": [
        "np.diag((1,2,3,4,5))"
      ]
    },
    {
      "cell_type": "markdown",
      "metadata": {
        "id": "dY4Vlf7-OCzq"
      },
      "source": [
        "#### 19. Create a 8x8 matrix and fill it with a checkerboard pattern (★☆☆) \n",
        "(**hint**: array\\[::2\\])"
      ]
    },
    {
      "cell_type": "code",
      "execution_count": 64,
      "metadata": {
        "id": "O6TN5O0_OCzq",
        "colab": {
          "base_uri": "https://localhost:8080/"
        },
        "outputId": "e87a88c2-1079-44e2-a5ac-b27f9aec15a2"
      },
      "outputs": [
        {
          "output_type": "execute_result",
          "data": {
            "text/plain": [
              "array([[1., 0., 1., 0., 1., 0., 1., 0.],\n",
              "       [0., 1., 0., 1., 0., 1., 0., 1.],\n",
              "       [1., 0., 1., 0., 1., 0., 1., 0.],\n",
              "       [0., 1., 0., 1., 0., 1., 0., 1.],\n",
              "       [1., 0., 1., 0., 1., 0., 1., 0.],\n",
              "       [0., 1., 0., 1., 0., 1., 0., 1.],\n",
              "       [1., 0., 1., 0., 1., 0., 1., 0.],\n",
              "       [0., 1., 0., 1., 0., 1., 0., 1.]])"
            ]
          },
          "metadata": {},
          "execution_count": 64
        }
      ],
      "source": [
        "a=np.ones((8,8))\n",
        "a[1::2,::2]=0\n",
        "a[::2,1::2]=0\n",
        "a"
      ]
    },
    {
      "cell_type": "markdown",
      "metadata": {
        "id": "aOwtKBXcOCzq"
      },
      "source": [
        "#### 20. Consider a (6,7,8) shape array, what is the index (x,y,z) of the 100th element? \n",
        "(**hint**: np.unravel_index)"
      ]
    },
    {
      "cell_type": "code",
      "execution_count": 65,
      "metadata": {
        "id": "nsPvrwzMOCzq",
        "colab": {
          "base_uri": "https://localhost:8080/"
        },
        "outputId": "09b6753b-2d41-48da-f47f-8d9853b4f0a1"
      },
      "outputs": [
        {
          "output_type": "execute_result",
          "data": {
            "text/plain": [
              "(1, 5, 4)"
            ]
          },
          "metadata": {},
          "execution_count": 65
        }
      ],
      "source": [
        "np.unravel_index(100,(6,7,8))"
      ]
    },
    {
      "cell_type": "markdown",
      "metadata": {
        "id": "Wo6Wo6tjOCzr"
      },
      "source": [
        "#### 21. Create a checkerboard 8x8 matrix using the tile function (★☆☆) \n",
        "(**hint**: np.tile)"
      ]
    },
    {
      "cell_type": "code",
      "execution_count": 66,
      "metadata": {
        "id": "l1QB-zVvOCzr",
        "colab": {
          "base_uri": "https://localhost:8080/"
        },
        "outputId": "17194c28-fbdb-461c-ad82-dc145dc48fa1"
      },
      "outputs": [
        {
          "output_type": "stream",
          "name": "stdout",
          "text": [
            "[[0 1 0 1 0 1 0 1]\n",
            " [1 0 1 0 1 0 1 0]\n",
            " [0 1 0 1 0 1 0 1]\n",
            " [1 0 1 0 1 0 1 0]\n",
            " [0 1 0 1 0 1 0 1]\n",
            " [1 0 1 0 1 0 1 0]\n",
            " [0 1 0 1 0 1 0 1]\n",
            " [1 0 1 0 1 0 1 0]]\n"
          ]
        }
      ],
      "source": [
        "Z = np.tile(np.array([[0,1],[1,0]]), (4,4))\n",
        "print(Z)"
      ]
    },
    {
      "cell_type": "markdown",
      "metadata": {
        "id": "mbVSepfKOCzr"
      },
      "source": [
        "#### 22. Normalize a 5x5 random matrix (★☆☆) \n",
        "(**hint**: (x - min) / (max - min))"
      ]
    },
    {
      "cell_type": "code",
      "execution_count": 67,
      "metadata": {
        "id": "TuV1wq6aOCzr",
        "colab": {
          "base_uri": "https://localhost:8080/"
        },
        "outputId": "cb670e9b-2dec-43c2-f4e6-69a039e1527c"
      },
      "outputs": [
        {
          "output_type": "stream",
          "name": "stdout",
          "text": [
            "[[[ 6  5 11 11 18]\n",
            "  [16 19 19 11 16]\n",
            "  [12 18 13 13 14]\n",
            "  [ 5 17 16  8 18]\n",
            "  [10 12 10 10  8]]]\n",
            "[[[ 0. -1.  5.  5. 12.]\n",
            "  [10. 13. 13.  5. 10.]\n",
            "  [ 6. 12.  7.  7.  8.]\n",
            "  [-1. 11. 10.  2. 12.]\n",
            "  [ 4.  6.  4.  4.  2.]]]\n"
          ]
        }
      ],
      "source": [
        "a=np.random.randint(5,high=20,size=(1,5,5))\n",
        "n=(a-np.max(a)/np.max(a)-np.min(a))\n",
        "print(a)\n",
        "print(n)"
      ]
    },
    {
      "cell_type": "markdown",
      "metadata": {
        "id": "l6r1bu4IOCzr"
      },
      "source": [
        "#### 23. Create a custom dtype that describes a color as four unsigned bytes (RGBA) (★☆☆) \n",
        "(**hint**: np.dtype)"
      ]
    },
    {
      "cell_type": "code",
      "execution_count": 68,
      "metadata": {
        "collapsed": true,
        "id": "I_D4DoSPOCzr",
        "colab": {
          "base_uri": "https://localhost:8080/"
        },
        "outputId": "2197edb9-6aa4-412b-b6fb-2638aa5f359a"
      },
      "outputs": [
        {
          "output_type": "stream",
          "name": "stderr",
          "text": [
            "/usr/local/lib/python3.7/dist-packages/ipykernel_launcher.py:1: FutureWarning: Passing (type, 1) or '1type' as a synonym of type is deprecated; in a future version of numpy, it will be understood as (type, (1,)) / '(1,)type'.\n",
            "  \"\"\"Entry point for launching an IPython kernel.\n"
          ]
        }
      ],
      "source": [
        "color = np.dtype([(\"r\", np.ubyte, 1),(\"g\", np.uintc, 1),(\"b\", np.uint, 1),(\"a\", np.ulonglong, 1)])\n"
      ]
    },
    {
      "cell_type": "markdown",
      "metadata": {
        "id": "7frR9C5yOCzr"
      },
      "source": [
        "#### 24. Multiply a 5x3 matrix by a 3x2 matrix (real matrix product) (★☆☆) \n",
        "(**hint**: np.dot | @)"
      ]
    },
    {
      "cell_type": "code",
      "execution_count": 69,
      "metadata": {
        "id": "ZgmdzDErOCzr",
        "colab": {
          "base_uri": "https://localhost:8080/"
        },
        "outputId": "295a0af3-b482-401d-af94-f781b1297c3c"
      },
      "outputs": [
        {
          "output_type": "stream",
          "name": "stdout",
          "text": [
            "[[3. 3.]\n",
            " [3. 3.]\n",
            " [3. 3.]\n",
            " [3. 3.]\n",
            " [3. 3.]]\n"
          ]
        }
      ],
      "source": [
        "Z = np.ones((5,3)) @ np.ones((3,2))\n",
        "print(Z)"
      ]
    },
    {
      "cell_type": "markdown",
      "metadata": {
        "id": "eQC3wHB7OCzs"
      },
      "source": [
        "#### 25. Given a 1D array, negate all elements which are between 3 and 8, in place. (★☆☆) \n",
        "(**hint**: >, <=)"
      ]
    },
    {
      "cell_type": "code",
      "execution_count": 70,
      "metadata": {
        "id": "NHiH9ae-OCzs",
        "colab": {
          "base_uri": "https://localhost:8080/"
        },
        "outputId": "192a1cb7-4dce-4529-d8db-308af4e803c0"
      },
      "outputs": [
        {
          "output_type": "stream",
          "name": "stdout",
          "text": [
            "[ 0  1  2  3 -4 -5 -6 -7 -8  9 10]\n"
          ]
        }
      ],
      "source": [
        "Z = np.arange(11)\n",
        "Z[(3 < Z) & (Z <= 8)] *= -1\n",
        "print(Z)"
      ]
    },
    {
      "cell_type": "markdown",
      "metadata": {
        "id": "Tudn0RrJOCzs"
      },
      "source": [
        "#### 26. What is the output of the following script? (★☆☆) \n",
        "(**hint**: np.sum)"
      ]
    },
    {
      "cell_type": "markdown",
      "metadata": {
        "id": "q3Fxi5FuOCzs"
      },
      "source": [
        "```python\n",
        "# Author: Jake VanderPlas\n",
        "\n",
        "print(sum(range(5),-1))\n",
        "from numpy import *\n",
        "print(sum(range(5),-1))\n",
        "```"
      ]
    },
    {
      "cell_type": "code",
      "execution_count": 71,
      "metadata": {
        "id": "pkw4azu4OCzs",
        "colab": {
          "base_uri": "https://localhost:8080/"
        },
        "outputId": "a9e83324-6ca6-47c8-eb06-8031e97d499b"
      },
      "outputs": [
        {
          "output_type": "stream",
          "name": "stdout",
          "text": [
            "10\n",
            "10\n"
          ]
        }
      ],
      "source": [
        "print(sum(range(5),-1))\n",
        "from numpy import *\n",
        "print(sum(range(5),-1))"
      ]
    },
    {
      "cell_type": "markdown",
      "metadata": {
        "id": "q45aQLTrOCzs"
      },
      "source": [
        "#### 27. Consider an integer vector Z, which of these expressions are legal? (★☆☆)"
      ]
    },
    {
      "cell_type": "markdown",
      "metadata": {
        "id": "lQGcnI4tOCzs"
      },
      "source": [
        "```python\n",
        "Z**Z\n",
        "2 << Z >> 2\n",
        "Z <- Z\n",
        "1j*Z\n",
        "Z/1/1\n",
        "Z<Z>Z\n",
        "```"
      ]
    },
    {
      "cell_type": "code",
      "execution_count": 72,
      "metadata": {
        "id": "uARaNiGSOCzs",
        "colab": {
          "base_uri": "https://localhost:8080/"
        },
        "outputId": "4ffe5d02-cd06-4ce4-b4e8-fe602d425b58"
      },
      "outputs": [
        {
          "output_type": "stream",
          "name": "stdout",
          "text": [
            "256\n",
            "8\n",
            "False\n",
            "4j\n",
            "4.0\n",
            "False\n"
          ]
        }
      ],
      "source": [
        "Z=4\n",
        "print(Z**Z)\n",
        "print(2 << Z >> 2)\n",
        "print(Z <- Z)\n",
        "print(1j*Z)\n",
        "print(Z/1/1)\n",
        "print(Z<Z>Z)\n",
        "#all expressions are legal"
      ]
    },
    {
      "cell_type": "markdown",
      "metadata": {
        "id": "HvyMenY-OCzt"
      },
      "source": [
        "#### 28. What are the result of the following expressions?\n"
      ]
    },
    {
      "cell_type": "markdown",
      "metadata": {
        "id": "7ojTPM7aOCzt"
      },
      "source": [
        "```python\n",
        "np.array(0) / np.array(0)\n",
        "np.array(0) // np.array(0)\n",
        "np.array([np.nan]).astype(int).astype(float)\n",
        "```"
      ]
    },
    {
      "cell_type": "code",
      "execution_count": 73,
      "metadata": {
        "id": "NZHfqJeYOCzt",
        "colab": {
          "base_uri": "https://localhost:8080/"
        },
        "outputId": "dce6c24f-35af-4b53-8047-07f362258c31"
      },
      "outputs": [
        {
          "output_type": "stream",
          "name": "stdout",
          "text": [
            "nan\n",
            "0\n",
            "[-9.22337204e+18]\n"
          ]
        },
        {
          "output_type": "stream",
          "name": "stderr",
          "text": [
            "/usr/local/lib/python3.7/dist-packages/ipykernel_launcher.py:1: RuntimeWarning: invalid value encountered in true_divide\n",
            "  \"\"\"Entry point for launching an IPython kernel.\n",
            "/usr/local/lib/python3.7/dist-packages/ipykernel_launcher.py:2: RuntimeWarning: divide by zero encountered in floor_divide\n",
            "  \n"
          ]
        }
      ],
      "source": [
        "print(np.array(0) / np.array(0)) \n",
        "print(np.array(0) // np.array(0))\n",
        "print(np.array([np.nan]).astype(int).astype(float))"
      ]
    },
    {
      "cell_type": "markdown",
      "metadata": {
        "id": "veABtbvhOCzt"
      },
      "source": [
        "#### 29. How to round away from zero a float array ? (★☆☆) \n",
        "(**hint**: np.uniform, np.copysign, np.ceil, np.abs)"
      ]
    },
    {
      "cell_type": "code",
      "execution_count": 74,
      "metadata": {
        "id": "YH95fa73OCzt",
        "colab": {
          "base_uri": "https://localhost:8080/"
        },
        "outputId": "1bfea790-b038-4460-a9d5-63ecbb5d6c5e"
      },
      "outputs": [
        {
          "output_type": "stream",
          "name": "stdout",
          "text": [
            "[  1.   3. -17.  -4.  -6. -13. -13.   2.  -6. -11.]\n"
          ]
        }
      ],
      "source": [
        "a= np.random.uniform(-20,10,10)\n",
        "print (np.copysign(np.ceil(np.abs(a)), a))"
      ]
    },
    {
      "cell_type": "markdown",
      "metadata": {
        "id": "WprP_CnpOCzt"
      },
      "source": [
        "#### 30. How to find common values between two arrays? (★☆☆) \n",
        "(**hint**: np.intersect1d)"
      ]
    },
    {
      "cell_type": "code",
      "execution_count": 75,
      "metadata": {
        "id": "K8XViP79OCzt",
        "colab": {
          "base_uri": "https://localhost:8080/"
        },
        "outputId": "bb175ed8-0f49-4d06-ab20-36748bcba7be"
      },
      "outputs": [
        {
          "output_type": "stream",
          "name": "stdout",
          "text": [
            "[1 2 1]\n",
            "[1 2 1]\n",
            "[1 2]\n"
          ]
        }
      ],
      "source": [
        "a = np.random.randint(1,3,3)\n",
        "b = np.random.randint(1,3,3)\n",
        "print(a)\n",
        "print(b)\n",
        "print(np.intersect1d(a,b))"
      ]
    },
    {
      "cell_type": "markdown",
      "metadata": {
        "id": "edJZ4aK7OCzt"
      },
      "source": [
        "#### 31. How to ignore all numpy warnings (not recommended)? (★☆☆) \n",
        "(**hint**: np.seterr, np.errstate)"
      ]
    },
    {
      "cell_type": "code",
      "execution_count": 76,
      "metadata": {
        "id": "o5TObsdeOCzu"
      },
      "outputs": [],
      "source": [
        "a = np.seterr(all=\"ignore\")\n",
        "n=np.ones(1)/0\n",
        "a=np.seterr(**a)"
      ]
    },
    {
      "cell_type": "code",
      "source": [
        "with np.errstate(divide='ignore'):\n",
        "    a=np.ones(1)/0"
      ],
      "metadata": {
        "id": "ffdJPG1LkcWk"
      },
      "execution_count": 77,
      "outputs": []
    },
    {
      "cell_type": "markdown",
      "metadata": {
        "id": "etB74UZTOCzu"
      },
      "source": [
        "#### 32. Is the following expressions true? (★☆☆) \n",
        "(**hint**: imaginary number)"
      ]
    },
    {
      "cell_type": "markdown",
      "metadata": {
        "id": "-z-XBMOwOCzu"
      },
      "source": [
        "```python\n",
        "np.sqrt(-1) == np.emath.sqrt(-1)\n",
        "```"
      ]
    },
    {
      "cell_type": "code",
      "execution_count": 78,
      "metadata": {
        "id": "KVtOMqChOCzu",
        "colab": {
          "base_uri": "https://localhost:8080/"
        },
        "outputId": "c4dc62c2-8f54-472b-9c9c-60419ef8f0c8"
      },
      "outputs": [
        {
          "output_type": "stream",
          "name": "stderr",
          "text": [
            "/usr/local/lib/python3.7/dist-packages/ipykernel_launcher.py:1: RuntimeWarning: invalid value encountered in sqrt\n",
            "  \"\"\"Entry point for launching an IPython kernel.\n"
          ]
        },
        {
          "output_type": "execute_result",
          "data": {
            "text/plain": [
              "False"
            ]
          },
          "metadata": {},
          "execution_count": 78
        }
      ],
      "source": [
        "np.sqrt(-1) == np.emath.sqrt(-1)#False"
      ]
    },
    {
      "cell_type": "markdown",
      "metadata": {
        "id": "3trJIa6hOCzu"
      },
      "source": [
        "#### 33. How to get the dates of yesterday, today and tomorrow? (★☆☆) \n",
        "(**hint**: np.datetime64, np.timedelta64)"
      ]
    },
    {
      "cell_type": "code",
      "execution_count": 79,
      "metadata": {
        "collapsed": true,
        "id": "ttXlRa_NOCzu",
        "colab": {
          "base_uri": "https://localhost:8080/"
        },
        "outputId": "755302fc-49cd-454c-d18d-1e04c356f950"
      },
      "outputs": [
        {
          "output_type": "stream",
          "name": "stdout",
          "text": [
            "2022-03-27\n",
            "2022-03-28\n",
            "2022-03-29\n"
          ]
        }
      ],
      "source": [
        "yesterday = np.datetime64('today', 'D') - np.timedelta64(1, 'D')\n",
        "today     = np.datetime64('today', 'D')\n",
        "tomorrow  = np.datetime64('today', 'D') + np.timedelta64(1, 'D')\n",
        "print(yesterday)\n",
        "print(today)\n",
        "print(tomorrow)"
      ]
    },
    {
      "cell_type": "markdown",
      "metadata": {
        "id": "LHtrtDnvOCzu"
      },
      "source": [
        "#### 34. How to get all the dates corresponding to the month of July 2016? (★★☆) \n",
        "(**hint**: np.arange(dtype=datetime64\\['D'\\]))"
      ]
    },
    {
      "cell_type": "code",
      "execution_count": 80,
      "metadata": {
        "id": "lvSUurN9OCzu",
        "colab": {
          "base_uri": "https://localhost:8080/"
        },
        "outputId": "5472d011-f52f-4fff-b0d3-224f71c3aa48"
      },
      "outputs": [
        {
          "output_type": "stream",
          "name": "stdout",
          "text": [
            "['2016-07-01' '2016-07-02' '2016-07-03' '2016-07-04' '2016-07-05'\n",
            " '2016-07-06' '2016-07-07' '2016-07-08' '2016-07-09' '2016-07-10'\n",
            " '2016-07-11' '2016-07-12' '2016-07-13' '2016-07-14' '2016-07-15'\n",
            " '2016-07-16' '2016-07-17' '2016-07-18' '2016-07-19' '2016-07-20'\n",
            " '2016-07-21' '2016-07-22' '2016-07-23' '2016-07-24' '2016-07-25'\n",
            " '2016-07-26' '2016-07-27' '2016-07-28' '2016-07-29' '2016-07-30'\n",
            " '2016-07-31']\n"
          ]
        }
      ],
      "source": [
        "a=np.arange('2016-07','2016-08',dtype='datetime64[D]')\n",
        "print(a)"
      ]
    },
    {
      "cell_type": "markdown",
      "metadata": {
        "id": "uOtdFsgIOCzu"
      },
      "source": [
        "#### 35. How to compute ((A+B)\\*(-A/2)) in place (without copy)? (★★☆) \n",
        "(**hint**: np.add(out=), np.negative(out=), np.multiply(out=), np.divide(out=))"
      ]
    },
    {
      "cell_type": "code",
      "execution_count": 81,
      "metadata": {
        "id": "EBlmO5wUOCzv",
        "colab": {
          "base_uri": "https://localhost:8080/"
        },
        "outputId": "70d6c7c0-2b86-4f85-9eb3-fe5ddd457a89"
      },
      "outputs": [
        {
          "output_type": "stream",
          "name": "stdout",
          "text": [
            "[1. 1. 1.]\n",
            "[2. 2. 2.]\n",
            "[1. 1. 1.]\n"
          ]
        },
        {
          "output_type": "execute_result",
          "data": {
            "text/plain": [
              "array([-0.5, -0.5, -0.5])"
            ]
          },
          "metadata": {},
          "execution_count": 81
        }
      ],
      "source": [
        "a= np.ones(3)*1\n",
        "b= np.ones(3)*2\n",
        "c= np.ones(3)\n",
        "print(a)\n",
        "print(b)\n",
        "print(c)\n",
        "np.add(a,b,out=b)\n",
        "np.divide(a,2,out=b)\n",
        "np.negative(a,out=a)\n",
        "np.multiply(a,b,out=c)\n",
        "c"
      ]
    },
    {
      "cell_type": "markdown",
      "metadata": {
        "id": "yUkdKFFSOCzv"
      },
      "source": [
        "#### 36. Extract the integer part of a random array using 5 different methods (★★☆) \n",
        "(**hint**: %, np.floor, np.ceil, astype, np.trunc)"
      ]
    },
    {
      "cell_type": "code",
      "execution_count": 82,
      "metadata": {
        "id": "bORGy9x5OCzv",
        "colab": {
          "base_uri": "https://localhost:8080/"
        },
        "outputId": "fd7d3f7d-cf6c-4de7-cf99-a1b223d863ec"
      },
      "outputs": [
        {
          "output_type": "stream",
          "name": "stdout",
          "text": [
            "[2. 8. 8. 4. 8. 9. 9. 1. 8. 2.]\n",
            "[2. 8. 8. 4. 8. 9. 9. 1. 8. 2.]\n",
            "[ 3.  9.  9.  5.  9. 10. 10.  2.  9.  3.]\n",
            "[2 8 8 4 8 9 9 1 8 2]\n",
            "[2. 8. 8. 4. 8. 9. 9. 1. 8. 2.]\n"
          ]
        }
      ],
      "source": [
        "a= np.random.uniform(0,10,10)\n",
        "print (a-a%1)\n",
        "print (np.floor(a))\n",
        "print (np.ceil(a))\n",
        "print (a.astype(int))\n",
        "print (np.trunc(a))"
      ]
    },
    {
      "cell_type": "markdown",
      "metadata": {
        "id": "cNqv2VybOCzv"
      },
      "source": [
        "#### 37. Create a 5x5 matrix with row values ranging from 0 to 4 (★★☆) \n",
        "(**hint**: np.arange)"
      ]
    },
    {
      "cell_type": "code",
      "execution_count": 83,
      "metadata": {
        "id": "rG33RxjWOCzv",
        "colab": {
          "base_uri": "https://localhost:8080/"
        },
        "outputId": "5006439b-0529-4ff5-d6ed-5a8e4cf52f5c"
      },
      "outputs": [
        {
          "output_type": "stream",
          "name": "stdout",
          "text": [
            "[[0. 1. 2. 3. 4.]\n",
            " [0. 1. 2. 3. 4.]\n",
            " [0. 1. 2. 3. 4.]\n",
            " [0. 1. 2. 3. 4.]\n",
            " [0. 1. 2. 3. 4.]]\n"
          ]
        }
      ],
      "source": [
        "a=np.zeros((5,5))\n",
        "a=a+np.arange(5)\n",
        "print(a)"
      ]
    },
    {
      "cell_type": "markdown",
      "metadata": {
        "id": "7OJq1-ylOCzv"
      },
      "source": [
        "#### 38. Consider a generator function that generates 10 integers and use it to build an array (★☆☆) \n",
        "(**hint**: np.fromiter)"
      ]
    },
    {
      "cell_type": "code",
      "execution_count": 84,
      "metadata": {
        "id": "8dkhzdv0OCzv",
        "colab": {
          "base_uri": "https://localhost:8080/"
        },
        "outputId": "02a07ecd-d079-4f48-8f5f-c301aede9200"
      },
      "outputs": [
        {
          "output_type": "stream",
          "name": "stdout",
          "text": [
            "[0 1 2 3 4 5 6 7 8 9]\n"
          ]
        }
      ],
      "source": [
        "def fun():\n",
        "  for i in range(10):\n",
        "    yield i\n",
        "a=np.fromiter(fun(),dtype=int,count=-1)\n",
        "print(a)"
      ]
    },
    {
      "cell_type": "markdown",
      "metadata": {
        "id": "0B6QJJbFOCzv"
      },
      "source": [
        "#### 39. Create a vector of size 10 with values ranging from 0 to 1, both excluded (★★☆) \n",
        "(**hint**: np.linspace)"
      ]
    },
    {
      "cell_type": "code",
      "execution_count": 85,
      "metadata": {
        "id": "JVyB-3VQOCzv",
        "colab": {
          "base_uri": "https://localhost:8080/"
        },
        "outputId": "4bea1c28-4a20-4af5-99b5-62a9b8ec654b"
      },
      "outputs": [
        {
          "output_type": "stream",
          "name": "stdout",
          "text": [
            "[0.09090909 0.18181818 0.27272727 0.36363636 0.45454545 0.54545455\n",
            " 0.63636364 0.72727273 0.81818182 0.90909091]\n"
          ]
        }
      ],
      "source": [
        "Z = np.linspace(0,1,11,endpoint=False)[1:]\n",
        "print(Z)"
      ]
    },
    {
      "cell_type": "markdown",
      "metadata": {
        "id": "mTBZmmHROCzw"
      },
      "source": [
        "#### 40. Create a random vector of size 10 and sort it (★★☆) \n",
        "(**hint**: sort)"
      ]
    },
    {
      "cell_type": "code",
      "execution_count": 86,
      "metadata": {
        "id": "FNnpci8cOCzw",
        "colab": {
          "base_uri": "https://localhost:8080/"
        },
        "outputId": "151154f5-9abe-4760-d550-23c957fcaeff"
      },
      "outputs": [
        {
          "output_type": "stream",
          "name": "stdout",
          "text": [
            "[0.03085427 0.17985809 0.44618463 0.63695387 0.71898843 0.81041932\n",
            " 0.83397371 0.84443227 0.84516278 0.91266334]\n"
          ]
        }
      ],
      "source": [
        "a= np.random.random(10)\n",
        "a.sort()\n",
        "print(a)"
      ]
    },
    {
      "cell_type": "markdown",
      "metadata": {
        "id": "duFlVrMiOCzw"
      },
      "source": [
        "#### 41. How to sum a small array faster than np.sum? (★★☆) \n",
        "(**hint**: np.add.reduce)"
      ]
    },
    {
      "cell_type": "code",
      "execution_count": 87,
      "metadata": {
        "id": "kkfNiT-gOCzw",
        "colab": {
          "base_uri": "https://localhost:8080/"
        },
        "outputId": "25892f08-fac9-4db9-a805-9839772938fe"
      },
      "outputs": [
        {
          "output_type": "stream",
          "name": "stdout",
          "text": [
            "[81 34 29 38 22 28 32 91 50 86]\n"
          ]
        },
        {
          "output_type": "execute_result",
          "data": {
            "text/plain": [
              "491"
            ]
          },
          "metadata": {},
          "execution_count": 87
        }
      ],
      "source": [
        "a=np.random.randint(10,100,10)\n",
        "print(a)\n",
        "np.add.reduce(a)"
      ]
    },
    {
      "cell_type": "markdown",
      "metadata": {
        "id": "GfjVPbTiOCzw"
      },
      "source": [
        "#### 42. Consider two random array A and B, check if they are equal (★★☆) \n",
        "(**hint**: np.allclose, np.array\\_equal)"
      ]
    },
    {
      "cell_type": "code",
      "execution_count": 88,
      "metadata": {
        "id": "2-j6WIKBOCzw",
        "colab": {
          "base_uri": "https://localhost:8080/"
        },
        "outputId": "2cd9c2b5-5308-4957-e86b-6222dcf60ea4"
      },
      "outputs": [
        {
          "output_type": "stream",
          "name": "stdout",
          "text": [
            "[99 59 76 72 19 52 92 33 98 40]\n",
            "[33 21 71 21 48 90 32 91 24 18]\n",
            "False\n",
            "False\n"
          ]
        }
      ],
      "source": [
        "a=np.random.randint(10,100,10)\n",
        "b=np.random.randint(10,100,10)\n",
        "print(a)\n",
        "print(b)\n",
        "c=np.allclose(a,b)\n",
        "print(c)\n",
        "c=np.array_equal(a,b)\n",
        "print(c)"
      ]
    },
    {
      "cell_type": "markdown",
      "metadata": {
        "id": "VJno9WFEOCzw"
      },
      "source": [
        "#### 43. Make an array immutable (read-only) (★★☆) \n",
        "(**hint**: flags.writeable)"
      ]
    },
    {
      "cell_type": "code",
      "execution_count": 89,
      "metadata": {
        "id": "hlvwNLYsOCzw",
        "colab": {
          "base_uri": "https://localhost:8080/",
          "height": 200
        },
        "outputId": "9b2353d6-a535-4275-c0e2-591dd997f13a"
      },
      "outputs": [
        {
          "output_type": "error",
          "ename": "ValueError",
          "evalue": "ignored",
          "traceback": [
            "\u001b[0;31m---------------------------------------------------------------------------\u001b[0m",
            "\u001b[0;31mValueError\u001b[0m                                Traceback (most recent call last)",
            "\u001b[0;32m<ipython-input-89-008ce8f14764>\u001b[0m in \u001b[0;36m<module>\u001b[0;34m()\u001b[0m\n\u001b[1;32m      1\u001b[0m \u001b[0ma\u001b[0m\u001b[0;34m=\u001b[0m\u001b[0mnp\u001b[0m\u001b[0;34m.\u001b[0m\u001b[0mzeros\u001b[0m\u001b[0;34m(\u001b[0m\u001b[0;36m3\u001b[0m\u001b[0;34m)\u001b[0m\u001b[0;34m\u001b[0m\u001b[0;34m\u001b[0m\u001b[0m\n\u001b[1;32m      2\u001b[0m \u001b[0ma\u001b[0m\u001b[0;34m.\u001b[0m\u001b[0mflags\u001b[0m\u001b[0;34m.\u001b[0m\u001b[0mwriteable\u001b[0m\u001b[0;34m=\u001b[0m\u001b[0;32mFalse\u001b[0m\u001b[0;34m\u001b[0m\u001b[0;34m\u001b[0m\u001b[0m\n\u001b[0;32m----> 3\u001b[0;31m \u001b[0ma\u001b[0m\u001b[0;34m[\u001b[0m\u001b[0;36m0\u001b[0m\u001b[0;34m]\u001b[0m\u001b[0;34m=\u001b[0m\u001b[0;36m1\u001b[0m\u001b[0;34m\u001b[0m\u001b[0;34m\u001b[0m\u001b[0m\n\u001b[0m",
            "\u001b[0;31mValueError\u001b[0m: assignment destination is read-only"
          ]
        }
      ],
      "source": [
        "a=np.zeros(3)\n",
        "a.flags.writeable=False\n",
        "a[0]=1"
      ]
    },
    {
      "cell_type": "markdown",
      "metadata": {
        "id": "oHoTSBMzOCzx"
      },
      "source": [
        "#### 44. Consider a random 10x2 matrix representing cartesian coordinates, convert them to polar coordinates (★★☆) \n",
        "(**hint**: np.sqrt, np.arctan2)"
      ]
    },
    {
      "cell_type": "code",
      "execution_count": 94,
      "metadata": {
        "id": "xiZTdj3kOCzx",
        "colab": {
          "base_uri": "https://localhost:8080/"
        },
        "outputId": "b017fc37-1cbe-4cfe-d88d-5705c2adbee8"
      },
      "outputs": [
        {
          "output_type": "stream",
          "name": "stdout",
          "text": [
            "[1.07371392 0.47390971 0.24534556 1.16298401 0.77760405 0.63446878\n",
            " 0.37567361 0.70019374 1.13185613 0.65383774]\n",
            "[0.44348908 0.21593421 0.90496315 0.57767214 0.92004031 1.27848785\n",
            " 0.48443594 0.17775058 0.57817695 0.79548418]\n"
          ]
        }
      ],
      "source": [
        "n= np.random.random((10,2))\n",
        "a,b = n[:,0], n[:,1]\n",
        "i= np.sqrt(a**2+b**2)\n",
        "j= np.arctan2(b,a)\n",
        "print(i)\n",
        "print(j)"
      ]
    },
    {
      "cell_type": "markdown",
      "metadata": {
        "id": "e0jz--BDOCzx"
      },
      "source": [
        "#### 45. Create random vector of size 10 and replace the maximum value by 0 (★★☆) \n",
        "(**hint**: argmax)"
      ]
    },
    {
      "cell_type": "code",
      "execution_count": 95,
      "metadata": {
        "id": "NVVuXggBOCzx",
        "colab": {
          "base_uri": "https://localhost:8080/"
        },
        "outputId": "fbfe9fcd-acbb-4c7f-aa1e-78fb5a93a908"
      },
      "outputs": [
        {
          "output_type": "stream",
          "name": "stdout",
          "text": [
            "[0.75377545 0.2445514  0.44525424 0.89888536 0.92979189 0.28670234\n",
            " 0.21307453 0.22794661 0.71058576 0.56020364]\n",
            "[0.75377545 0.2445514  0.44525424 0.89888536 0.         0.28670234\n",
            " 0.21307453 0.22794661 0.71058576 0.56020364]\n"
          ]
        }
      ],
      "source": [
        "a=np.random.random(10)\n",
        "print(a)\n",
        "a[a.argmax()] = 0\n",
        "print(a)"
      ]
    },
    {
      "cell_type": "markdown",
      "metadata": {
        "id": "WiKiugrgOCzx"
      },
      "source": [
        "#### 46. Create a structured array with `x` and `y` coordinates covering the \\[0,1\\]x\\[0,1\\] area (★★☆) \n",
        "(**hint**: np.meshgrid)"
      ]
    },
    {
      "cell_type": "code",
      "execution_count": 100,
      "metadata": {
        "id": "2aN-RvEWOCzx",
        "colab": {
          "base_uri": "https://localhost:8080/"
        },
        "outputId": "1af2e69e-8b5b-45b8-ef21-82fdc3a29c00"
      },
      "outputs": [
        {
          "output_type": "stream",
          "name": "stdout",
          "text": [
            "[[(0. , 0. ) (0.5, 0. ) (1. , 0. )]\n",
            " [(0. , 0.5) (0.5, 0.5) (1. , 0.5)]\n",
            " [(0. , 1. ) (0.5, 1. ) (1. , 1. )]]\n"
          ]
        }
      ],
      "source": [
        "a= np.zeros((3,3), [('x',float),('y',float)])\n",
        "a['x'],a['y']=np.meshgrid(np.linspace(0,1,3),np.linspace(0,1,3))\n",
        "print(a)"
      ]
    },
    {
      "cell_type": "markdown",
      "metadata": {
        "id": "mD-KDmfKOCzx"
      },
      "source": [
        "####  47. Given two arrays, X and Y, construct the Cauchy matrix C (Cij =1/(xi - yj)) \n",
        "(**hint**: np.subtract.outer)"
      ]
    },
    {
      "cell_type": "code",
      "execution_count": 101,
      "metadata": {
        "id": "LWmSN673OCzx",
        "colab": {
          "base_uri": "https://localhost:8080/"
        },
        "outputId": "4ede3d88-d3c0-4b7e-dd2b-60e2e8a2811c"
      },
      "outputs": [
        {
          "output_type": "stream",
          "name": "stdout",
          "text": [
            "3638.163637117973\n"
          ]
        }
      ],
      "source": [
        "a= np.arange(8)\n",
        "b=a+ 0.5\n",
        "c= 1.0/np.subtract.outer(a,b)\n",
        "print(np.linalg.det(c))"
      ]
    },
    {
      "cell_type": "markdown",
      "metadata": {
        "id": "5OJRZ_G9OCzx"
      },
      "source": [
        "#### 48. Print the minimum and maximum representable value for each numpy scalar type (★★☆) \n",
        "(**hint**: np.iinfo, np.finfo, eps)"
      ]
    },
    {
      "cell_type": "code",
      "execution_count": 102,
      "metadata": {
        "id": "W0OIyW4IOCzx",
        "colab": {
          "base_uri": "https://localhost:8080/"
        },
        "outputId": "7b8b5cd0-bc78-43a8-ec69-a6bc2ed042e7"
      },
      "outputs": [
        {
          "output_type": "stream",
          "name": "stdout",
          "text": [
            "-128\n",
            "127\n",
            "-2147483648\n",
            "2147483647\n",
            "-9223372036854775808\n",
            "9223372036854775807\n",
            "-3.4028235e+38\n",
            "3.4028235e+38\n",
            "1.1920929e-07\n",
            "-1.7976931348623157e+308\n",
            "1.7976931348623157e+308\n",
            "2.220446049250313e-16\n"
          ]
        }
      ],
      "source": [
        "for dtype in [np.int8, np.int32, np.int64]:\n",
        "   print(np.iinfo(dtype).min)\n",
        "   print(np.iinfo(dtype).max)\n",
        "for dtype in [np.float32, np.float64]:\n",
        "   print(np.finfo(dtype).min)\n",
        "   print(np.finfo(dtype).max)\n",
        "   print(np.finfo(dtype).eps)"
      ]
    },
    {
      "cell_type": "markdown",
      "metadata": {
        "id": "O0bOHlNCOCzy"
      },
      "source": [
        "#### 49. How to print all the values of an array? (★★☆) \n",
        "(**hint**: np.set\\_printoptions)"
      ]
    },
    {
      "cell_type": "code",
      "execution_count": 103,
      "metadata": {
        "id": "p4tsyFxnOCzy",
        "colab": {
          "base_uri": "https://localhost:8080/"
        },
        "outputId": "c116fbd1-e1b7-4a7e-af47-07dfcadfc586"
      },
      "outputs": [
        {
          "output_type": "stream",
          "name": "stdout",
          "text": [
            "[[0. 0. 0. 0. 0. 0. 0. 0. 0. 0.]\n",
            " [0. 0. 0. 0. 0. 0. 0. 0. 0. 0.]\n",
            " [0. 0. 0. 0. 0. 0. 0. 0. 0. 0.]\n",
            " [0. 0. 0. 0. 0. 0. 0. 0. 0. 0.]\n",
            " [0. 0. 0. 0. 0. 0. 0. 0. 0. 0.]\n",
            " [0. 0. 0. 0. 0. 0. 0. 0. 0. 0.]\n",
            " [0. 0. 0. 0. 0. 0. 0. 0. 0. 0.]\n",
            " [0. 0. 0. 0. 0. 0. 0. 0. 0. 0.]\n",
            " [0. 0. 0. 0. 0. 0. 0. 0. 0. 0.]\n",
            " [0. 0. 0. 0. 0. 0. 0. 0. 0. 0.]]\n"
          ]
        }
      ],
      "source": [
        "np.set_printoptions(threshold=float(\"inf\"))\n",
        "Z = np.zeros((10,10))\n",
        "print(Z)"
      ]
    },
    {
      "cell_type": "markdown",
      "metadata": {
        "id": "yW8mMhT3OCzy"
      },
      "source": [
        "#### 50. How to find the closest value (to a given scalar) in a vector? (★★☆) \n",
        "(**hint**: argmin)"
      ]
    },
    {
      "cell_type": "code",
      "execution_count": 105,
      "metadata": {
        "id": "piAJVtTZOCzy",
        "colab": {
          "base_uri": "https://localhost:8080/"
        },
        "outputId": "fa053fb8-f3ff-4ada-e6b7-787b9168df16"
      },
      "outputs": [
        {
          "output_type": "stream",
          "name": "stdout",
          "text": [
            "82\n"
          ]
        }
      ],
      "source": [
        "a=np.arange(100)\n",
        "b=np.random.uniform(0,100)\n",
        "i=(np.abs(a-b)).argmin()\n",
        "print(a[i])"
      ]
    },
    {
      "cell_type": "markdown",
      "metadata": {
        "id": "9fubjHPaOCzy"
      },
      "source": [
        "#### 51. Create a structured array representing a position (x,y) and a color (r,g,b) (★★☆) \n",
        "(**hint**: dtype)"
      ]
    },
    {
      "cell_type": "code",
      "execution_count": 106,
      "metadata": {
        "id": "iJZ1pgXaOCzy"
      },
      "outputs": [],
      "source": [
        ""
      ]
    },
    {
      "cell_type": "markdown",
      "metadata": {
        "id": "8ZrJjIizOCzy"
      },
      "source": [
        "#### 52. Consider a random vector with shape (100,2) representing coordinates, find point by point distances (★★☆) \n",
        "(**hint**: np.atleast\\_2d, T, np.sqrt)"
      ]
    },
    {
      "cell_type": "code",
      "execution_count": 108,
      "metadata": {
        "id": "UT0lYpjVOCzy",
        "colab": {
          "base_uri": "https://localhost:8080/"
        },
        "outputId": "3ff575a6-5417-42f4-b456-7ebb3ae9862f"
      },
      "outputs": [
        {
          "output_type": "stream",
          "name": "stdout",
          "text": [
            "[[0.         0.44941491 0.2057666  0.48098897 0.41810928 0.30632931\n",
            "  0.38058819 0.58156835 0.55758754 0.16961529]\n",
            " [0.44941491 0.         0.47705179 0.67953358 0.84086267 0.71318233\n",
            "  0.60456547 0.79470941 0.1692359  0.41344632]\n",
            " [0.2057666  0.47705179 0.         0.68671134 0.55911462 0.47397558\n",
            "  0.58626834 0.78678497 0.52370844 0.36410922]\n",
            " [0.48098897 0.67953358 0.68671134 0.         0.43748851 0.35161971\n",
            "  0.1005152  0.1161408  0.84517781 0.33847902]\n",
            " [0.41810928 0.84086267 0.55911462 0.43748851 0.         0.13076408\n",
            "  0.39083232 0.45808549 0.96901048 0.4361456 ]\n",
            " [0.30632931 0.71318233 0.47397558 0.35161971 0.13076408 0.\n",
            "  0.28481774 0.40166286 0.8460112  0.30572258]\n",
            " [0.38058819 0.60456547 0.58626834 0.1005152  0.39083232 0.28481774\n",
            "  0.         0.20888522 0.76641458 0.24041753]\n",
            " [0.58156835 0.79470941 0.78678497 0.1161408  0.45808549 0.40166286\n",
            "  0.20888522 0.         0.9608697  0.44926539]\n",
            " [0.55758754 0.1692359  0.52370844 0.84517781 0.96901048 0.8460112\n",
            "  0.76641458 0.9608697  0.         0.55931563]\n",
            " [0.16961529 0.41344632 0.36410922 0.33847902 0.4361456  0.30572258\n",
            "  0.24041753 0.44926539 0.55931563 0.        ]]\n"
          ]
        }
      ],
      "source": [
        "n= np.random.random((10,2))\n",
        "a,b= np.atleast_2d(n[:,0], n[:,1])\n",
        "d=np.sqrt((a-a.T)**2 + (b-b.T)**2)\n",
        "print(d)"
      ]
    },
    {
      "cell_type": "markdown",
      "metadata": {
        "id": "nihyEbDqOCzz"
      },
      "source": [
        "#### 53. How to convert a float (32 bits) array into an integer (32 bits) in place? \n",
        "(**hint**: astype(copy=False))"
      ]
    },
    {
      "cell_type": "code",
      "execution_count": 110,
      "metadata": {
        "id": "EA-T1ojMOCzz",
        "colab": {
          "base_uri": "https://localhost:8080/"
        },
        "outputId": "fb2ce796-79ad-4976-f865-f38491858de5"
      },
      "outputs": [
        {
          "output_type": "stream",
          "name": "stdout",
          "text": [
            "[0. 1. 2. 3. 4. 5. 6. 7. 8. 9.]\n"
          ]
        }
      ],
      "source": [
        "a= np.arange(10, dtype=np.int32)\n",
        "a=a.astype(np.float32)\n",
        "print(a)"
      ]
    },
    {
      "cell_type": "markdown",
      "metadata": {
        "id": "oHOhX5yIOCzz"
      },
      "source": [
        "#### 54. How to read the following file? (★★☆) \n",
        "(**hint**: np.genfromtxt)"
      ]
    },
    {
      "cell_type": "markdown",
      "metadata": {
        "id": "TvcpoVmvOCzz"
      },
      "source": [
        "```\n",
        "1, 2, 3, 4, 5\n",
        "6,  ,  , 7, 8\n",
        " ,  , 9,10,11\n",
        "```"
      ]
    },
    {
      "cell_type": "code",
      "execution_count": 112,
      "metadata": {
        "id": "feQICKNyOCzz",
        "colab": {
          "base_uri": "https://localhost:8080/"
        },
        "outputId": "c3ee8ea5-b2d6-47c2-9bf5-899cd35f49f9"
      },
      "outputs": [
        {
          "output_type": "stream",
          "name": "stdout",
          "text": [
            "[[ 1  2  3  4  5]\n",
            " [ 6 -1 -1  7  8]\n",
            " [-1 -1  9 10 11]]\n"
          ]
        },
        {
          "output_type": "stream",
          "name": "stderr",
          "text": [
            "/usr/local/lib/python3.7/dist-packages/ipykernel_launcher.py:5: DeprecationWarning: `np.int` is a deprecated alias for the builtin `int`. To silence this warning, use `int` by itself. Doing this will not modify any behavior and is safe. When replacing `np.int`, you may wish to use e.g. `np.int64` or `np.int32` to specify the precision. If you wish to review your current use, check the release note link for additional information.\n",
            "Deprecated in NumPy 1.20; for more details and guidance: https://numpy.org/devdocs/release/1.20.0-notes.html#deprecations\n",
            "  \"\"\"\n"
          ]
        }
      ],
      "source": [
        "from io import StringIO\n",
        "f= StringIO(\"\"\"1, 2, 3, 4, 5\\n\n",
        "                6,  ,  , 7, 8\\n\n",
        "                 ,  , 9,10,11\\n\"\"\")\n",
        "a= np.genfromtxt(f, delimiter=\",\", dtype=np.int)\n",
        "print(a)"
      ]
    },
    {
      "cell_type": "markdown",
      "metadata": {
        "id": "_6ovbjejOCzz"
      },
      "source": [
        "#### 55. What is the equivalent of enumerate for numpy arrays? (★★☆) \n",
        "(**hint**: np.ndenumerate, np.ndindex)"
      ]
    },
    {
      "cell_type": "code",
      "source": [
        "a= np.arange(9).reshape(3,3)\n",
        "for i, j in np.ndenumerate(a):\n",
        "    print(i,j)\n",
        "for i in np.ndindex(a.shape):\n",
        "    print(i, a[i])"
      ],
      "metadata": {
        "colab": {
          "base_uri": "https://localhost:8080/"
        },
        "id": "VdMLMhv9rTzN",
        "outputId": "71a77992-5a37-4f50-df97-448d714da3f0"
      },
      "execution_count": 114,
      "outputs": [
        {
          "output_type": "stream",
          "name": "stdout",
          "text": [
            "(0, 0) 0\n",
            "(0, 1) 1\n",
            "(0, 2) 2\n",
            "(1, 0) 3\n",
            "(1, 1) 4\n",
            "(1, 2) 5\n",
            "(2, 0) 6\n",
            "(2, 1) 7\n",
            "(2, 2) 8\n",
            "(0, 0) 0\n",
            "(0, 1) 1\n",
            "(0, 2) 2\n",
            "(1, 0) 3\n",
            "(1, 1) 4\n",
            "(1, 2) 5\n",
            "(2, 0) 6\n",
            "(2, 1) 7\n",
            "(2, 2) 8\n"
          ]
        }
      ]
    },
    {
      "cell_type": "markdown",
      "metadata": {
        "id": "g9ez4BkNOCzz"
      },
      "source": [
        "#### 56. Generate a generic 2D Gaussian-like array (★★☆) \n",
        "(**hint**: np.meshgrid, np.exp)"
      ]
    },
    {
      "cell_type": "code",
      "execution_count": 116,
      "metadata": {
        "id": "Rc-WbfcvOCzz",
        "colab": {
          "base_uri": "https://localhost:8080/"
        },
        "outputId": "4e7944dd-b874-4ba1-887d-de038529949d"
      },
      "outputs": [
        {
          "output_type": "stream",
          "name": "stdout",
          "text": [
            "[[0.36787944 0.45942582 0.57375342 0.71653131 0.89483932        nan\n",
            "         nan        nan        nan        nan]\n",
            " [0.45942582 0.54610814 0.64914526 0.77162295 0.91720915        nan\n",
            "         nan        nan        nan        nan]\n",
            " [0.57375342 0.64914526 0.73444367 0.83095039 0.9401382         nan\n",
            "         nan        nan        nan        nan]\n",
            " [0.71653131 0.77162295 0.83095039 0.89483932 0.96364044        nan\n",
            "         nan        nan        nan        nan]\n",
            " [0.89483932 0.91720915 0.9401382  0.96364044 0.98773022        nan\n",
            "         nan        nan        nan        nan]\n",
            " [       nan        nan        nan        nan        nan 0.98773022\n",
            "  0.96364044 0.9401382  0.91720915 0.89483932]\n",
            " [       nan        nan        nan        nan        nan 0.96364044\n",
            "  0.89483932 0.83095039 0.77162295 0.71653131]\n",
            " [       nan        nan        nan        nan        nan 0.9401382\n",
            "  0.83095039 0.73444367 0.64914526 0.57375342]\n",
            " [       nan        nan        nan        nan        nan 0.91720915\n",
            "  0.77162295 0.64914526 0.54610814 0.45942582]\n",
            " [       nan        nan        nan        nan        nan 0.89483932\n",
            "  0.71653131 0.57375342 0.45942582 0.36787944]]\n"
          ]
        },
        {
          "output_type": "stream",
          "name": "stderr",
          "text": [
            "/usr/local/lib/python3.7/dist-packages/ipykernel_launcher.py:2: RuntimeWarning: invalid value encountered in sqrt\n",
            "  \n"
          ]
        }
      ],
      "source": [
        "a,b=np.meshgrid(np.linspace(-1,1,10), np.linspace(-1,1,10))\n",
        "c=np.sqrt(a*b+a*b)\n",
        "sigma, mu =1.0,0.0\n",
        "d= np.exp(-((c-mu)**2/(2.0*sigma**2)))\n",
        "print(d)"
      ]
    },
    {
      "cell_type": "markdown",
      "metadata": {
        "id": "l8stj_FXOCzz"
      },
      "source": [
        "#### 57. How to randomly place p elements in a 2D array? (★★☆) \n",
        "(**hint**: np.put, np.random.choice)"
      ]
    },
    {
      "cell_type": "code",
      "execution_count": 121,
      "metadata": {
        "id": "peGdqEuPOCz0",
        "colab": {
          "base_uri": "https://localhost:8080/"
        },
        "outputId": "90056788-eede-49f0-8615-6ae00dc73cfc"
      },
      "outputs": [
        {
          "output_type": "stream",
          "name": "stdout",
          "text": [
            "[[0. 0. 1.]\n",
            " [0. 0. 1.]\n",
            " [0. 0. 1.]]\n"
          ]
        }
      ],
      "source": [
        "n = 3\n",
        "p = 3\n",
        "a = np.zeros((n,n))\n",
        "np.put(a, np.random.choice(range(n*n), p, replace=False),1)\n",
        "print(a)"
      ]
    },
    {
      "cell_type": "markdown",
      "metadata": {
        "id": "id-qhUjUOCz0"
      },
      "source": [
        "#### 58. Subtract the mean of each row of a matrix (★★☆) \n",
        "(**hint**: mean(axis=,keepdims=))"
      ]
    },
    {
      "cell_type": "code",
      "execution_count": 122,
      "metadata": {
        "id": "0WmPAy9rOCz0",
        "colab": {
          "base_uri": "https://localhost:8080/"
        },
        "outputId": "b3f42b2d-28a3-4d34-ba9a-bbe8d5b784ab"
      },
      "outputs": [
        {
          "output_type": "stream",
          "name": "stdout",
          "text": [
            "[[-0.46540789 -0.08169909 -0.17023974 -0.28052272  0.40066027  0.19983851\n",
            "  -0.01878954  0.41782589  0.14204691 -0.14371258]\n",
            " [ 0.26211546 -0.07515693 -0.23869317  0.21568042  0.33881828  0.44243711\n",
            "  -0.09174022 -0.31978025 -0.2767651  -0.25691561]\n",
            " [ 0.04657613  0.46401221  0.17228754  0.16340562 -0.26869266 -0.2294242\n",
            "   0.14593642 -0.05673243 -0.24012727 -0.19724137]\n",
            " [-0.18028771  0.51570613 -0.27963593  0.16815218 -0.0104449   0.44454461\n",
            "  -0.21904246  0.10499141 -0.27976658 -0.26421675]\n",
            " [ 0.10378991  0.36303765  0.30929239 -0.09862853 -0.06902528 -0.42698413\n",
            "  -0.36643261 -0.34085088  0.40620147  0.11960003]]\n"
          ]
        }
      ],
      "source": [
        "x= np.random.rand(5, 10)\n",
        "y=x-x.mean(axis=1, keepdims=True)\n",
        "print(y)"
      ]
    },
    {
      "cell_type": "markdown",
      "metadata": {
        "id": "hdg-3RQmOCz0"
      },
      "source": [
        "#### 59. How to sort an array by the nth column? (★★☆) \n",
        "(**hint**: argsort)"
      ]
    },
    {
      "cell_type": "code",
      "execution_count": 124,
      "metadata": {
        "id": "UmQ9NBpUOCz0",
        "colab": {
          "base_uri": "https://localhost:8080/"
        },
        "outputId": "7dda8a8c-d35b-4700-824d-1386719adbca"
      },
      "outputs": [
        {
          "output_type": "stream",
          "name": "stdout",
          "text": [
            "[[0 0 4]\n",
            " [4 3 1]\n",
            " [4 0 0]]\n",
            "[[0 0 4]\n",
            " [4 0 0]\n",
            " [4 3 1]]\n"
          ]
        }
      ],
      "source": [
        "a= np.random.randint(0,5,(3,3))\n",
        "print(a)\n",
        "print(a[a[:,1].argsort()])"
      ]
    },
    {
      "cell_type": "markdown",
      "metadata": {
        "id": "CDkIVtGwOCz0"
      },
      "source": [
        "#### 60. How to tell if a given 2D array has null columns? (★★☆) \n",
        "(**hint**: any, ~)"
      ]
    },
    {
      "cell_type": "code",
      "execution_count": 127,
      "metadata": {
        "id": "EsV_XmepOCz0",
        "colab": {
          "base_uri": "https://localhost:8080/"
        },
        "outputId": "76df973a-2851-4f9e-be87-3a1f98701c41"
      },
      "outputs": [
        {
          "output_type": "stream",
          "name": "stdout",
          "text": [
            "[[0 2 1]\n",
            " [1 0 0]\n",
            " [1 1 0]]\n",
            "False\n"
          ]
        }
      ],
      "source": [
        "a=np.random.randint(0,3,(3,3))\n",
        "print(a)\n",
        "print((~a.any(axis=0)).any())"
      ]
    },
    {
      "cell_type": "markdown",
      "metadata": {
        "id": "hIvKUnW1OCz0"
      },
      "source": [
        "#### 61. Find the nearest value from a given value in an array (★★☆) \n",
        "(**hint**: np.abs, argmin, flat)"
      ]
    },
    {
      "cell_type": "code",
      "execution_count": 128,
      "metadata": {
        "id": "tH2WXpRTOCz0",
        "colab": {
          "base_uri": "https://localhost:8080/"
        },
        "outputId": "2652154d-df35-49ec-9644-3ef6f66a674a"
      },
      "outputs": [
        {
          "output_type": "stream",
          "name": "stdout",
          "text": [
            "0.5105045566186026\n"
          ]
        }
      ],
      "source": [
        "a= np.random.uniform(0,1,10)\n",
        "b= 0.5\n",
        "c=a.flat[np.abs(a-b).argmin()]\n",
        "print(c)"
      ]
    },
    {
      "cell_type": "markdown",
      "metadata": {
        "id": "tuzBD-wiOCz1"
      },
      "source": [
        "#### 62. Considering two arrays with shape (1,3) and (3,1), how to compute their sum using an iterator? (★★☆) \n",
        "(**hint**: np.nditer)"
      ]
    },
    {
      "cell_type": "code",
      "execution_count": 129,
      "metadata": {
        "id": "p_aRUnqOOCz1",
        "colab": {
          "base_uri": "https://localhost:8080/"
        },
        "outputId": "943a7d3f-1cb4-4dc0-ac60-77798a196c64"
      },
      "outputs": [
        {
          "output_type": "stream",
          "name": "stdout",
          "text": [
            "[[0 1 2]\n",
            " [1 2 3]\n",
            " [2 3 4]]\n"
          ]
        }
      ],
      "source": [
        "a=np.arange(3).reshape(3,1)\n",
        "b=np.arange(3).reshape(1,3)\n",
        "c= np.nditer([a,b,None])\n",
        "for x,y,z in c: z[...] = x + y\n",
        "print(c.operands[2])"
      ]
    },
    {
      "cell_type": "markdown",
      "metadata": {
        "id": "aDr0Gsc-OCz1"
      },
      "source": [
        "#### 63. Create an array class that has a name attribute (★★☆) \n",
        "(**hint**: class method)"
      ]
    },
    {
      "cell_type": "code",
      "execution_count": 130,
      "metadata": {
        "id": "8FMrQnqzOCz1",
        "colab": {
          "base_uri": "https://localhost:8080/"
        },
        "outputId": "e043ff25-bd46-4c0b-ef79-afbf9878d1dd"
      },
      "outputs": [
        {
          "output_type": "stream",
          "name": "stdout",
          "text": [
            "range_10\n"
          ]
        }
      ],
      "source": [
        "class NamedArray(np.ndarray):\n",
        "    def __new__(cls, array, name=\"no name\"):\n",
        "        obj = np.asarray(array).view(cls)\n",
        "        obj.name = name\n",
        "        return obj\n",
        "    def __array_finalize__(self, obj):\n",
        "        if obj is None: return\n",
        "        self.info = getattr(obj, 'name', \"no name\")\n",
        "\n",
        "a= NamedArray(np.arange(10), \"range_10\")\n",
        "print (a.name)"
      ]
    },
    {
      "cell_type": "markdown",
      "metadata": {
        "id": "hqLAhwxjOCz1"
      },
      "source": [
        "#### 64. Consider a given vector, how to add 1 to each element indexed by a second vector (be careful with repeated indices)? (★★★) \n",
        "(**hint**: np.bincount | np.add.at)"
      ]
    },
    {
      "cell_type": "code",
      "execution_count": 135,
      "metadata": {
        "id": "p8F_SDIPOCz1",
        "colab": {
          "base_uri": "https://localhost:8080/"
        },
        "outputId": "12d79aa8-ebc3-4109-a2fe-63c2054b4a0c"
      },
      "outputs": [
        {
          "output_type": "stream",
          "name": "stdout",
          "text": [
            "[3. 3. 1. 3. 3. 3. 3. 4. 3. 4.]\n"
          ]
        }
      ],
      "source": [
        "a=np.ones(10)\n",
        "i=np.random.randint(0,len(Z),20)\n",
        "a+= np.bincount(i, minlength=len(a))\n",
        "print(a)\n"
      ]
    },
    {
      "cell_type": "markdown",
      "metadata": {
        "id": "PbCpUUNAOCz1"
      },
      "source": [
        "#### 65. How to accumulate elements of a vector (X) to an array (F) based on an index list (I)? (★★★) \n",
        "(**hint**: np.bincount)"
      ]
    },
    {
      "cell_type": "code",
      "execution_count": 136,
      "metadata": {
        "id": "yxLaTk3ROCz1",
        "colab": {
          "base_uri": "https://localhost:8080/"
        },
        "outputId": "6f31f203-ff05-4637-99fd-cbe5f3465bff"
      },
      "outputs": [
        {
          "output_type": "stream",
          "name": "stdout",
          "text": [
            "[0 1 1 1 1 1 1]\n"
          ]
        }
      ],
      "source": [
        "x= [1,2,3,4,5,6]\n",
        "i= [1,3,9,3,4,1]\n",
        "a= np.bincount(x)\n",
        "print(a)"
      ]
    },
    {
      "cell_type": "markdown",
      "metadata": {
        "id": "ksNEvhSzOCz1"
      },
      "source": [
        "#### 66. Considering a (w,h,3) image of (dtype=ubyte), compute the number of unique colors (★★★) \n",
        "(**hint**: np.unique)"
      ]
    },
    {
      "cell_type": "code",
      "execution_count": 138,
      "metadata": {
        "id": "wow_4bO_OCz2"
      },
      "outputs": [],
      "source": [
        ""
      ]
    },
    {
      "cell_type": "markdown",
      "metadata": {
        "id": "VGofF31OOCz2"
      },
      "source": [
        "#### 67. Considering a four dimensions array, how to get sum over the last two axis at once? (★★★) \n",
        "(**hint**: sum(axis=(-2,-1)))"
      ]
    },
    {
      "cell_type": "code",
      "execution_count": 145,
      "metadata": {
        "id": "p9srvq9gOCz2",
        "colab": {
          "base_uri": "https://localhost:8080/"
        },
        "outputId": "5b124223-1e65-4fc4-e462-01ca8c20dad3"
      },
      "outputs": [
        {
          "output_type": "stream",
          "name": "stdout",
          "text": [
            "[[55 43 67 71]\n",
            " [55 44 61 59]\n",
            " [54 52 54 51]]\n"
          ]
        }
      ],
      "source": [
        "a=np.random.randint(0,10,(3,4,3,4))\n",
        "sum=a.sum(axis=(-2,-1))\n",
        "print(sum)"
      ]
    },
    {
      "cell_type": "markdown",
      "metadata": {
        "id": "bQ_FoiHIOCz2"
      },
      "source": [
        "#### 68. Considering a one-dimensional vector D, how to compute means of subsets of D using a vector S of same size describing subset  indices? (★★★) \n",
        "(**hint**: np.bincount)"
      ]
    },
    {
      "cell_type": "code",
      "execution_count": 146,
      "metadata": {
        "id": "_XJs01sKOCz2",
        "colab": {
          "base_uri": "https://localhost:8080/"
        },
        "outputId": "6eb7ee67-1880-43ce-a57c-9249ab34a8ff"
      },
      "outputs": [
        {
          "output_type": "stream",
          "name": "stdout",
          "text": [
            "[0.51934959 0.57015434 0.66522959 0.4923932  0.29723856 0.5568051\n",
            " 0.3664667  0.51692719 0.43475791 0.52547304]\n"
          ]
        }
      ],
      "source": [
        "d=np.random.uniform(0,1,100)\n",
        "s=np.random.randint(0,10,100)\n",
        "d_sums=np.bincount(s, weights=d)\n",
        "d_counts=np.bincount(s)\n",
        "d_means=d_sums/d_counts\n",
        "print(d_means)"
      ]
    },
    {
      "cell_type": "markdown",
      "metadata": {
        "id": "Zld51vRtOCz2"
      },
      "source": [
        "#### 69. How to get the diagonal of a dot product? (★★★) \n",
        "(**hint**: np.diag)"
      ]
    },
    {
      "cell_type": "code",
      "execution_count": 147,
      "metadata": {
        "id": "wJolEpjzOCz2",
        "colab": {
          "base_uri": "https://localhost:8080/"
        },
        "outputId": "f2d2bb7c-bfa5-426d-aaec-c525d343a644"
      },
      "outputs": [
        {
          "output_type": "execute_result",
          "data": {
            "text/plain": [
              "array([0.83158877, 0.749413  , 1.26475086])"
            ]
          },
          "metadata": {},
          "execution_count": 147
        }
      ],
      "source": [
        "a = np.random.uniform(0,1,(3,3))\n",
        "b = np.random.uniform(0,1,(3,3))\n",
        "np.sum(a * b.T, axis=1)"
      ]
    },
    {
      "cell_type": "markdown",
      "metadata": {
        "id": "Dh-8443uOCz2"
      },
      "source": [
        "#### 70. Consider the vector \\[1, 2, 3, 4, 5\\], how to build a new vector with 3 consecutive zeros interleaved between each value? (★★★) \n",
        "(**hint**: array\\[::4\\])"
      ]
    },
    {
      "cell_type": "code",
      "execution_count": 148,
      "metadata": {
        "id": "enQnZTddOCz3",
        "colab": {
          "base_uri": "https://localhost:8080/"
        },
        "outputId": "0d914973-93f6-487d-d761-99bfca65e6e6"
      },
      "outputs": [
        {
          "output_type": "stream",
          "name": "stdout",
          "text": [
            "[1. 0. 0. 0. 2. 0. 0. 0. 3. 0. 0. 0. 4. 0. 0. 0. 5.]\n"
          ]
        }
      ],
      "source": [
        "z=np.array([1,2,3,4,5])\n",
        "n=3\n",
        "k=np.zeros(len(z) + (len(z)-1)*(n))\n",
        "k[::n+1]=z\n",
        "print(k)"
      ]
    },
    {
      "cell_type": "markdown",
      "metadata": {
        "id": "FGA1wEIhOCz3"
      },
      "source": [
        "#### 71. Consider an array of dimension (5,5,3), how to mulitply it by an array with dimensions (5,5)? (★★★) \n",
        "(**hint**: array\\[:, :, None\\])"
      ]
    },
    {
      "cell_type": "code",
      "execution_count": 149,
      "metadata": {
        "collapsed": true,
        "id": "nwCTWLweOCz3",
        "colab": {
          "base_uri": "https://localhost:8080/"
        },
        "outputId": "e93635bf-4652-48e9-a510-16aefe381e8c"
      },
      "outputs": [
        {
          "output_type": "stream",
          "name": "stdout",
          "text": [
            "[[[2. 2. 2.]\n",
            "  [2. 2. 2.]\n",
            "  [2. 2. 2.]\n",
            "  [2. 2. 2.]\n",
            "  [2. 2. 2.]]\n",
            "\n",
            " [[2. 2. 2.]\n",
            "  [2. 2. 2.]\n",
            "  [2. 2. 2.]\n",
            "  [2. 2. 2.]\n",
            "  [2. 2. 2.]]\n",
            "\n",
            " [[2. 2. 2.]\n",
            "  [2. 2. 2.]\n",
            "  [2. 2. 2.]\n",
            "  [2. 2. 2.]\n",
            "  [2. 2. 2.]]\n",
            "\n",
            " [[2. 2. 2.]\n",
            "  [2. 2. 2.]\n",
            "  [2. 2. 2.]\n",
            "  [2. 2. 2.]\n",
            "  [2. 2. 2.]]\n",
            "\n",
            " [[2. 2. 2.]\n",
            "  [2. 2. 2.]\n",
            "  [2. 2. 2.]\n",
            "  [2. 2. 2.]\n",
            "  [2. 2. 2.]]]\n"
          ]
        }
      ],
      "source": [
        "a = np.ones((5,5,3))\n",
        "b = 2*np.ones((5,5))\n",
        "print(a * b[:,:,None])"
      ]
    },
    {
      "cell_type": "markdown",
      "metadata": {
        "id": "z8DAewMpOCz3"
      },
      "source": [
        "#### 72. How to swap two rows of an array? (★★★) \n",
        "(**hint**: array\\[\\[\\]\\] = array\\[\\[\\]\\])"
      ]
    },
    {
      "cell_type": "code",
      "execution_count": 150,
      "metadata": {
        "id": "ABR4u_KXOCz3",
        "colab": {
          "base_uri": "https://localhost:8080/"
        },
        "outputId": "d6e102e8-5107-406f-cb9f-3ad3336fb849"
      },
      "outputs": [
        {
          "output_type": "stream",
          "name": "stdout",
          "text": [
            "[[ 5  6  7  8  9]\n",
            " [ 0  1  2  3  4]\n",
            " [10 11 12 13 14]\n",
            " [15 16 17 18 19]\n",
            " [20 21 22 23 24]]\n"
          ]
        }
      ],
      "source": [
        "a= np.arange(25).reshape(5,5)\n",
        "a[[0,1]] =a[[1,0]]\n",
        "print(a)"
      ]
    },
    {
      "cell_type": "markdown",
      "metadata": {
        "id": "-BZCHaNKOCz3"
      },
      "source": [
        "#### 73. Consider a set of 10 triplets describing 10 triangles (with shared vertices), find the set of unique line segments composing all the  triangles (★★★) \n",
        "(**hint**: repeat, np.roll, np.sort, view, np.unique)"
      ]
    },
    {
      "cell_type": "code",
      "execution_count": 151,
      "metadata": {
        "id": "pGE7CdeNOCz3",
        "colab": {
          "base_uri": "https://localhost:8080/"
        },
        "outputId": "1e7fb825-137a-4cde-f956-0da9b2570add"
      },
      "outputs": [
        {
          "output_type": "stream",
          "name": "stdout",
          "text": [
            "[( 5, 74) ( 5, 87) ( 7, 60) ( 7, 68) ( 8, 62) ( 8, 75) (10, 77) (10, 80)\n",
            " (28, 50) (28, 62) (31, 47) (31, 75) (36, 49) (36, 72) (47, 75) (49, 72)\n",
            " (50, 62) (51, 81) (51, 95) (60, 68) (62, 75) (67, 67) (67, 69) (68, 78)\n",
            " (68, 81) (74, 87) (77, 80) (78, 81) (81, 95)]\n"
          ]
        }
      ],
      "source": [
        "n=np.random.randint(0,100,(10,3))\n",
        "a=np.roll(n.repeat(2,axis=1),-1,axis=1)\n",
        "a=a.reshape(len(a)*3,2)\n",
        "a=np.sort(a,axis=1)\n",
        "b=a.view( dtype=[('p0',a.dtype),('p1',a.dtype)] )\n",
        "b=np.unique(b)\n",
        "print(b)"
      ]
    },
    {
      "cell_type": "markdown",
      "metadata": {
        "id": "9bgEjylLOCz3"
      },
      "source": [
        "#### 74. Given an array C that is a bincount, how to produce an array A such that np.bincount(A) == C? (★★★) \n",
        "(**hint**: np.repeat)"
      ]
    },
    {
      "cell_type": "code",
      "execution_count": null,
      "metadata": {
        "id": "EuuHpFtJOCz4"
      },
      "outputs": [],
      "source": [
        "C = np.bincount([1,1,2,3,4,4,6])\n",
        "A = np.repeat(np.arange(len(C)), C)\n",
        "print(A)"
      ]
    },
    {
      "cell_type": "markdown",
      "metadata": {
        "id": "7JM6XdwaOCz4"
      },
      "source": [
        "#### 75. How to compute averages using a sliding window over an array? (★★★) \n",
        "(**hint**: np.cumsum)"
      ]
    },
    {
      "cell_type": "code",
      "execution_count": 160,
      "metadata": {
        "id": "GGTEKJxqOCz4",
        "colab": {
          "base_uri": "https://localhost:8080/"
        },
        "outputId": "badbfa71-6ed5-40f4-ca6c-f58849715d97"
      },
      "outputs": [
        {
          "output_type": "stream",
          "name": "stdout",
          "text": [
            "[ 1.  2.  3.  4.  5.  6.  7.  8.  9. 10. 11. 12. 13. 14. 15. 16. 17. 18.]\n"
          ]
        }
      ],
      "source": [
        "def mov(a,n=3):\n",
        "  r=np.cumsum(a,dtype=float)\n",
        "  r[n:]=r[n:]-r[:-n]\n",
        "  return r[n-1:]/n\n",
        "b=np.arange(20)\n",
        "print(mov(b,n=3))"
      ]
    },
    {
      "cell_type": "markdown",
      "metadata": {
        "id": "8orc4zDoOCz4"
      },
      "source": [
        "#### 76. Consider a one-dimensional array Z, build a two-dimensional array whose first row is (Z\\[0\\],Z\\[1\\],Z\\[2\\]) and each subsequent row is  shifted by 1 (last row should be (Z\\[-3\\],Z\\[-2\\],Z\\[-1\\]) (★★★) \n",
        "(**hint**: from numpy.lib import stride_tricks)"
      ]
    },
    {
      "cell_type": "code",
      "execution_count": 162,
      "metadata": {
        "id": "cKIjquTFOCz4"
      },
      "outputs": [],
      "source": [
        ""
      ]
    },
    {
      "cell_type": "markdown",
      "metadata": {
        "id": "eXea0uMAOCz4"
      },
      "source": [
        "#### 77. How to negate a boolean, or to change the sign of a float inplace? (★★★) \n",
        "(**hint**: np.logical_not, np.negative)"
      ]
    },
    {
      "cell_type": "code",
      "execution_count": 163,
      "metadata": {
        "id": "BsaNUSjDOCz4",
        "colab": {
          "base_uri": "https://localhost:8080/"
        },
        "outputId": "67a179f2-11c3-4092-a51e-02095741e956"
      },
      "outputs": [
        {
          "output_type": "execute_result",
          "data": {
            "text/plain": [
              "array([ 3.29045994e-01, -7.34279334e-01, -6.80555219e-01, -1.38774785e-01,\n",
              "       -7.56476767e-01,  9.43730735e-01, -9.08248493e-01, -5.47030142e-01,\n",
              "        5.57499013e-01,  9.89466394e-01,  3.03543511e-01,  1.43515215e-01,\n",
              "       -5.89065562e-01,  3.11827353e-01,  8.54497304e-01,  1.03035638e-01,\n",
              "       -3.51215293e-01,  8.68177865e-01, -8.69848811e-01,  2.62513263e-01,\n",
              "        2.79026197e-01,  5.85992766e-01, -3.02229811e-01, -4.36668642e-01,\n",
              "        4.60290843e-01,  5.04233449e-01, -1.36911266e-02,  2.24246766e-01,\n",
              "        4.92999965e-01,  7.90140670e-01,  8.49171454e-01, -4.04381298e-01,\n",
              "       -5.83577954e-02, -9.67493096e-01,  3.24367360e-01, -7.79480316e-01,\n",
              "        1.65052216e-01, -3.27469897e-02,  6.63816897e-01, -1.15867624e-01,\n",
              "       -3.13648524e-01,  8.82110263e-01,  2.69451894e-01, -3.06529072e-01,\n",
              "       -2.33727856e-01,  6.62855597e-02, -8.73259670e-01,  2.27489190e-02,\n",
              "       -1.81515672e-02, -4.83762701e-01, -8.39603533e-01,  3.20105427e-01,\n",
              "       -3.59998401e-01,  2.16774283e-01, -6.17641413e-01,  1.50930377e-01,\n",
              "        1.24131204e-01, -3.26479861e-01, -9.26904911e-01, -1.90247998e-01,\n",
              "       -7.95639307e-01, -4.20312075e-01,  1.81822265e-01, -7.36198995e-01,\n",
              "        1.29580465e-01,  9.93223769e-01,  7.36422767e-01, -9.67112844e-02,\n",
              "       -1.78041230e-01,  1.27521521e-01,  1.53552686e-01, -3.83935017e-02,\n",
              "       -2.10673827e-01,  4.83945483e-01,  3.74434200e-01,  9.05455178e-01,\n",
              "       -6.15584513e-01,  1.43948918e-01,  7.28124391e-01, -5.42683423e-01,\n",
              "        2.10007099e-01, -1.24941154e-01,  2.25480035e-01, -1.01535551e-01,\n",
              "        7.01816979e-02,  3.68844923e-01,  7.91502777e-01, -4.61894113e-01,\n",
              "        4.87180033e-01, -8.27020103e-01, -7.40237541e-01,  2.97378225e-01,\n",
              "       -2.24231762e-01, -9.42830287e-01,  4.49462491e-01, -4.10591504e-01,\n",
              "       -6.62827457e-04,  6.93649047e-01, -1.51155795e-01,  3.46586547e-01])"
            ]
          },
          "metadata": {},
          "execution_count": 163
        }
      ],
      "source": [
        "a=np.random.randint(0,2,100)\n",
        "np.logical_not(a,out=a)\n",
        "\n",
        "a=np.random.uniform(-1.0,1.0,100)\n",
        "np.negative(a,out=a)"
      ]
    },
    {
      "cell_type": "markdown",
      "metadata": {
        "id": "sFWZJ1kOOCz4"
      },
      "source": [
        "#### 78. Consider 2 sets of points P0,P1 describing lines (2d) and a point p, how to compute distance from p to each line i  (P0\\[i\\],P1\\[i\\])? (★★★)"
      ]
    },
    {
      "cell_type": "code",
      "execution_count": 165,
      "metadata": {
        "id": "KtXDUqTNOCz4",
        "colab": {
          "base_uri": "https://localhost:8080/"
        },
        "outputId": "5fb63737-d3c8-499a-b77f-5f8144aaee4c"
      },
      "outputs": [
        {
          "output_type": "stream",
          "name": "stdout",
          "text": [
            "[5.83792215 0.31914792 8.68623978 8.16546636 4.74954998 4.38662862\n",
            " 2.23083077 9.89893764 6.33172897 4.52883615]\n"
          ]
        }
      ],
      "source": [
        "def distance(a, b, p):\n",
        "    t=b - a\n",
        "    l=(t**2).sum(axis=1)\n",
        "    u=-((a[:,0]-p[...,0])*t[:,0] + (a[:,1]-p[...,1])*t[:,1]) / l\n",
        "    u=u.reshape(len(u),1)\n",
        "    d=a+u*t-p\n",
        "    return np.sqrt((d**2).sum(axis=1))\n",
        "\n",
        "a=np.random.uniform(-10,10,(10,2))\n",
        "b=np.random.uniform(-10,10,(10,2))\n",
        "p=np.random.uniform(-10,10,( 1,2))\n",
        "print(distance(a, b, p))"
      ]
    },
    {
      "cell_type": "markdown",
      "metadata": {
        "id": "61Ts54rcOCz5"
      },
      "source": [
        "#### 79. Consider 2 sets of points P0,P1 describing lines (2d) and a set of points P, how to compute distance from each point j (P\\[j\\]) to each line i (P0\\[i\\],P1\\[i\\])? (★★★)"
      ]
    },
    {
      "cell_type": "code",
      "execution_count": 166,
      "metadata": {
        "id": "-ylVver_OCz5",
        "colab": {
          "base_uri": "https://localhost:8080/"
        },
        "outputId": "c3eeb3e2-4281-4257-bb3d-ef258086bbd2"
      },
      "outputs": [
        {
          "output_type": "stream",
          "name": "stdout",
          "text": [
            "[[ 1.00984456  5.46544961 12.43348113  4.01808164  2.57445082  6.22372976\n",
            "   2.88245021  3.96597254 15.34322777  6.25417859]\n",
            " [ 2.4447334   9.89545758  6.06312807  1.26386464  0.13982346  2.35221232\n",
            "   2.98458706  4.52753585  8.91247611  3.42340542]\n",
            " [ 5.01185197 17.34736259  4.80511389  3.31177911  4.64707971  4.13936388\n",
            "  13.02848526  5.35756349  2.02884035  1.28333154]\n",
            " [19.85570725  2.675474    3.17135259 13.1336796  11.81911719 11.34810338\n",
            "  15.91047564 11.13918231  3.44809659 15.12002543]\n",
            " [ 8.88812206  2.70595076 13.72967742 13.03191536 11.59679762 14.79646669\n",
            "   1.72016832  4.93128943 18.70755181 15.25043145]\n",
            " [17.46067987  0.12361355  2.05615755 14.13403016 12.78421096 13.36492332\n",
            "  10.74487689 10.29112741  8.41880152 16.18813927]\n",
            " [ 4.39839985  5.18179529  9.38433402  5.49518042  4.07617071  6.94499637\n",
            "   0.70489542  1.3303834  12.94499975  7.68366929]\n",
            " [17.70869093  2.53002345  0.87640196 12.4393091  11.10703712 11.18960954\n",
            "  13.32677472  9.58914237  5.35463419 14.45985019]\n",
            " [10.9803593   7.68850804  0.04842631  6.09315123  4.74180114  5.53908481\n",
            "  10.59482642  2.66165449  4.64762969  8.15126727]\n",
            " [11.12748898  1.6895318   6.59879243 10.60400135  9.21488452 11.06605988\n",
            "   5.02990098  4.98334277 11.66837957 12.73425187]]\n"
          ]
        }
      ],
      "source": [
        "P0 = np.random.uniform(-10, 10, (10,2))\n",
        "P1 = np.random.uniform(-10,10,(10,2))\n",
        "p = np.random.uniform(-10, 10, (10,2))\n",
        "print(np.array([distance(P0,P1,p_i) for p_i in p]))"
      ]
    },
    {
      "cell_type": "markdown",
      "metadata": {
        "id": "m9U2Oo39OCz5"
      },
      "source": [
        "#### 80. Consider an arbitrary array, write a function that extract a subpart with a fixed shape and centered on a given element (pad with a `fill` value when necessary) (★★★) \n",
        "(**hint**: minimum, maximum)"
      ]
    },
    {
      "cell_type": "code",
      "execution_count": null,
      "metadata": {
        "id": "TWahw9rPOCz5"
      },
      "outputs": [],
      "source": [
        ""
      ]
    },
    {
      "cell_type": "markdown",
      "metadata": {
        "id": "eWN0DXosOCz5"
      },
      "source": [
        "#### 81. Consider an array Z = \\[1,2,3,4,5,6,7,8,9,10,11,12,13,14\\], how to generate an array R = \\[\\[1,2,3,4\\], \\[2,3,4,5\\], \\[3,4,5,6\\], ..., \\[11,12,13,14\\]\\]? (★★★) \n",
        "(**hint**: stride\\_tricks.as\\_strided)"
      ]
    },
    {
      "cell_type": "code",
      "execution_count": 168,
      "metadata": {
        "id": "b89DCQumOCz5",
        "colab": {
          "base_uri": "https://localhost:8080/"
        },
        "outputId": "c6464b72-f923-4f80-d3f6-5ebda1a133f3"
      },
      "outputs": [
        {
          "output_type": "stream",
          "name": "stdout",
          "text": [
            "[[ 1  2  3  4]\n",
            " [ 2  3  4  5]\n",
            " [ 3  4  5  6]\n",
            " [ 4  5  6  7]\n",
            " [ 5  6  7  8]\n",
            " [ 6  7  8  9]\n",
            " [ 7  8  9 10]\n",
            " [ 8  9 10 11]\n",
            " [ 9 10 11 12]\n",
            " [10 11 12 13]\n",
            " [11 12 13 14]]\n"
          ]
        }
      ],
      "source": [
        "from numpy.lib import stride_tricks\n",
        "\n",
        "a=np.arange(1,15,dtype=np.uint32)\n",
        "b=stride_tricks.as_strided(a,(11,4),(4,4))\n",
        "print(b)"
      ]
    },
    {
      "cell_type": "markdown",
      "metadata": {
        "id": "pk_6W4POOCz5"
      },
      "source": [
        "#### 82. Compute a matrix rank (★★★) \n",
        "(**hint**: np.linalg.svd) (suggestion: np.linalg.svd)"
      ]
    },
    {
      "cell_type": "code",
      "execution_count": 170,
      "metadata": {
        "id": "nRrj58cnOCz5",
        "colab": {
          "base_uri": "https://localhost:8080/"
        },
        "outputId": "bc123435-cd5c-48fc-9811-32f866d1871a"
      },
      "outputs": [
        {
          "output_type": "stream",
          "name": "stdout",
          "text": [
            "10\n"
          ]
        }
      ],
      "source": [
        "a=np.random.uniform(0,1,(10,10))\n",
        "u,s,v=np.linalg.svd(a)\n",
        "r=np.sum(s>1e-10)\n",
        "print(r)"
      ]
    },
    {
      "cell_type": "markdown",
      "metadata": {
        "id": "7xVSKAIaOCz5"
      },
      "source": [
        "#### 83. How to find the most frequent value in an array? \n",
        "(**hint**: np.bincount, argmax)"
      ]
    },
    {
      "cell_type": "code",
      "execution_count": 171,
      "metadata": {
        "id": "CuHJDbBNOCz6",
        "colab": {
          "base_uri": "https://localhost:8080/"
        },
        "outputId": "58804a3a-220e-49e9-8f3d-4a08752037ac"
      },
      "outputs": [
        {
          "output_type": "stream",
          "name": "stdout",
          "text": [
            "0\n"
          ]
        }
      ],
      "source": [
        "a= np.random.randint(0,10,50)\n",
        "print(np.bincount(a).argmax())"
      ]
    },
    {
      "cell_type": "markdown",
      "metadata": {
        "id": "Ns1RWGt_OCz6"
      },
      "source": [
        "#### 84. Extract all the contiguous 3x3 blocks from a random 10x10 matrix (★★★) \n",
        "(**hint**: stride\\_tricks.as\\_strided)"
      ]
    },
    {
      "cell_type": "code",
      "execution_count": 172,
      "metadata": {
        "id": "WU5Fd4ypOCz6",
        "colab": {
          "base_uri": "https://localhost:8080/"
        },
        "outputId": "b1478da8-28a9-4055-bece-ced6fe85ea9e"
      },
      "outputs": [
        {
          "output_type": "stream",
          "name": "stdout",
          "text": [
            "[[[[4 4 3]\n",
            "   [2 4 3]\n",
            "   [2 3 1]]\n",
            "\n",
            "  [[4 3 4]\n",
            "   [4 3 4]\n",
            "   [3 1 3]]\n",
            "\n",
            "  [[3 4 0]\n",
            "   [3 4 4]\n",
            "   [1 3 2]]\n",
            "\n",
            "  [[4 0 2]\n",
            "   [4 4 0]\n",
            "   [3 2 3]]\n",
            "\n",
            "  [[0 2 4]\n",
            "   [4 0 4]\n",
            "   [2 3 3]]\n",
            "\n",
            "  [[2 4 2]\n",
            "   [0 4 3]\n",
            "   [3 3 4]]\n",
            "\n",
            "  [[4 2 0]\n",
            "   [4 3 1]\n",
            "   [3 4 3]]\n",
            "\n",
            "  [[2 0 2]\n",
            "   [3 1 4]\n",
            "   [4 3 1]]]\n",
            "\n",
            "\n",
            " [[[2 4 3]\n",
            "   [2 3 1]\n",
            "   [1 4 0]]\n",
            "\n",
            "  [[4 3 4]\n",
            "   [3 1 3]\n",
            "   [4 0 1]]\n",
            "\n",
            "  [[3 4 4]\n",
            "   [1 3 2]\n",
            "   [0 1 3]]\n",
            "\n",
            "  [[4 4 0]\n",
            "   [3 2 3]\n",
            "   [1 3 1]]\n",
            "\n",
            "  [[4 0 4]\n",
            "   [2 3 3]\n",
            "   [3 1 1]]\n",
            "\n",
            "  [[0 4 3]\n",
            "   [3 3 4]\n",
            "   [1 1 0]]\n",
            "\n",
            "  [[4 3 1]\n",
            "   [3 4 3]\n",
            "   [1 0 2]]\n",
            "\n",
            "  [[3 1 4]\n",
            "   [4 3 1]\n",
            "   [0 2 1]]]\n",
            "\n",
            "\n",
            " [[[2 3 1]\n",
            "   [1 4 0]\n",
            "   [1 0 0]]\n",
            "\n",
            "  [[3 1 3]\n",
            "   [4 0 1]\n",
            "   [0 0 1]]\n",
            "\n",
            "  [[1 3 2]\n",
            "   [0 1 3]\n",
            "   [0 1 1]]\n",
            "\n",
            "  [[3 2 3]\n",
            "   [1 3 1]\n",
            "   [1 1 2]]\n",
            "\n",
            "  [[2 3 3]\n",
            "   [3 1 1]\n",
            "   [1 2 1]]\n",
            "\n",
            "  [[3 3 4]\n",
            "   [1 1 0]\n",
            "   [2 1 0]]\n",
            "\n",
            "  [[3 4 3]\n",
            "   [1 0 2]\n",
            "   [1 0 0]]\n",
            "\n",
            "  [[4 3 1]\n",
            "   [0 2 1]\n",
            "   [0 0 1]]]\n",
            "\n",
            "\n",
            " [[[1 4 0]\n",
            "   [1 0 0]\n",
            "   [1 3 0]]\n",
            "\n",
            "  [[4 0 1]\n",
            "   [0 0 1]\n",
            "   [3 0 0]]\n",
            "\n",
            "  [[0 1 3]\n",
            "   [0 1 1]\n",
            "   [0 0 0]]\n",
            "\n",
            "  [[1 3 1]\n",
            "   [1 1 2]\n",
            "   [0 0 1]]\n",
            "\n",
            "  [[3 1 1]\n",
            "   [1 2 1]\n",
            "   [0 1 4]]\n",
            "\n",
            "  [[1 1 0]\n",
            "   [2 1 0]\n",
            "   [1 4 1]]\n",
            "\n",
            "  [[1 0 2]\n",
            "   [1 0 0]\n",
            "   [4 1 0]]\n",
            "\n",
            "  [[0 2 1]\n",
            "   [0 0 1]\n",
            "   [1 0 4]]]\n",
            "\n",
            "\n",
            " [[[1 0 0]\n",
            "   [1 3 0]\n",
            "   [0 0 0]]\n",
            "\n",
            "  [[0 0 1]\n",
            "   [3 0 0]\n",
            "   [0 0 1]]\n",
            "\n",
            "  [[0 1 1]\n",
            "   [0 0 0]\n",
            "   [0 1 0]]\n",
            "\n",
            "  [[1 1 2]\n",
            "   [0 0 1]\n",
            "   [1 0 0]]\n",
            "\n",
            "  [[1 2 1]\n",
            "   [0 1 4]\n",
            "   [0 0 1]]\n",
            "\n",
            "  [[2 1 0]\n",
            "   [1 4 1]\n",
            "   [0 1 0]]\n",
            "\n",
            "  [[1 0 0]\n",
            "   [4 1 0]\n",
            "   [1 0 4]]\n",
            "\n",
            "  [[0 0 1]\n",
            "   [1 0 4]\n",
            "   [0 4 0]]]\n",
            "\n",
            "\n",
            " [[[1 3 0]\n",
            "   [0 0 0]\n",
            "   [3 3 1]]\n",
            "\n",
            "  [[3 0 0]\n",
            "   [0 0 1]\n",
            "   [3 1 2]]\n",
            "\n",
            "  [[0 0 0]\n",
            "   [0 1 0]\n",
            "   [1 2 4]]\n",
            "\n",
            "  [[0 0 1]\n",
            "   [1 0 0]\n",
            "   [2 4 2]]\n",
            "\n",
            "  [[0 1 4]\n",
            "   [0 0 1]\n",
            "   [4 2 4]]\n",
            "\n",
            "  [[1 4 1]\n",
            "   [0 1 0]\n",
            "   [2 4 0]]\n",
            "\n",
            "  [[4 1 0]\n",
            "   [1 0 4]\n",
            "   [4 0 2]]\n",
            "\n",
            "  [[1 0 4]\n",
            "   [0 4 0]\n",
            "   [0 2 0]]]\n",
            "\n",
            "\n",
            " [[[0 0 0]\n",
            "   [3 3 1]\n",
            "   [1 1 0]]\n",
            "\n",
            "  [[0 0 1]\n",
            "   [3 1 2]\n",
            "   [1 0 2]]\n",
            "\n",
            "  [[0 1 0]\n",
            "   [1 2 4]\n",
            "   [0 2 3]]\n",
            "\n",
            "  [[1 0 0]\n",
            "   [2 4 2]\n",
            "   [2 3 3]]\n",
            "\n",
            "  [[0 0 1]\n",
            "   [4 2 4]\n",
            "   [3 3 1]]\n",
            "\n",
            "  [[0 1 0]\n",
            "   [2 4 0]\n",
            "   [3 1 3]]\n",
            "\n",
            "  [[1 0 4]\n",
            "   [4 0 2]\n",
            "   [1 3 1]]\n",
            "\n",
            "  [[0 4 0]\n",
            "   [0 2 0]\n",
            "   [3 1 0]]]\n",
            "\n",
            "\n",
            " [[[3 3 1]\n",
            "   [1 1 0]\n",
            "   [3 1 0]]\n",
            "\n",
            "  [[3 1 2]\n",
            "   [1 0 2]\n",
            "   [1 0 0]]\n",
            "\n",
            "  [[1 2 4]\n",
            "   [0 2 3]\n",
            "   [0 0 3]]\n",
            "\n",
            "  [[2 4 2]\n",
            "   [2 3 3]\n",
            "   [0 3 3]]\n",
            "\n",
            "  [[4 2 4]\n",
            "   [3 3 1]\n",
            "   [3 3 2]]\n",
            "\n",
            "  [[2 4 0]\n",
            "   [3 1 3]\n",
            "   [3 2 4]]\n",
            "\n",
            "  [[4 0 2]\n",
            "   [1 3 1]\n",
            "   [2 4 2]]\n",
            "\n",
            "  [[0 2 0]\n",
            "   [3 1 0]\n",
            "   [4 2 0]]]]\n"
          ]
        }
      ],
      "source": [
        "a=np.random.randint(0,5,(10,10))\n",
        "n=3\n",
        "i=1+(a.shape[0]-3)\n",
        "j=1+(a.shape[1]-3)\n",
        "c=stride_tricks.as_strided(a,shape=(i,j,n,n),strides=a.strides+a.strides)\n",
        "print(c)"
      ]
    },
    {
      "cell_type": "markdown",
      "metadata": {
        "id": "tBjU89hLOCz6"
      },
      "source": [
        "#### 85. Create a 2D array subclass such that Z\\[i,j\\] == Z\\[j,i\\] (★★★) \n",
        "(**hint**: class method)"
      ]
    },
    {
      "cell_type": "code",
      "execution_count": 178,
      "metadata": {
        "id": "b8JNOM3tOCz6",
        "colab": {
          "base_uri": "https://localhost:8080/"
        },
        "outputId": "d123ee68-6418-4ed4-e686-5a20db33f608"
      },
      "outputs": [
        {
          "output_type": "stream",
          "name": "stdout",
          "text": [
            "[[200.]\n",
            " [200.]\n",
            " [200.]\n",
            " [200.]\n",
            " [200.]\n",
            " [200.]\n",
            " [200.]\n",
            " [200.]\n",
            " [200.]\n",
            " [200.]\n",
            " [200.]\n",
            " [200.]\n",
            " [200.]\n",
            " [200.]\n",
            " [200.]\n",
            " [200.]\n",
            " [200.]\n",
            " [200.]\n",
            " [200.]\n",
            " [200.]]\n"
          ]
        }
      ],
      "source": [
        "p,n=10,20\n",
        "i=np.ones((p,n,n))\n",
        "j=np.ones((p,n,1))\n",
        "k=np.tensordot(i,j,axes=[[0,2],[0,1]])\n",
        "print(k)\n"
      ]
    },
    {
      "cell_type": "markdown",
      "metadata": {
        "id": "v9MoATQPOCz6"
      },
      "source": [
        "#### 86. Consider a set of p matrices wich shape (n,n) and a set of p vectors with shape (n,1). How to compute the sum of of the p matrix products at once? (result has shape (n,1)) (★★★) \n",
        "(**hint**: np.tensordot)"
      ]
    },
    {
      "cell_type": "code",
      "execution_count": 181,
      "metadata": {
        "id": "jy3vv9LFOCz6",
        "colab": {
          "base_uri": "https://localhost:8080/"
        },
        "outputId": "9561c075-8ab6-4aee-a14b-5de4f0ba8d08"
      },
      "outputs": [
        {
          "output_type": "stream",
          "name": "stdout",
          "text": [
            "[[200.]\n",
            " [200.]\n",
            " [200.]\n",
            " [200.]\n",
            " [200.]\n",
            " [200.]\n",
            " [200.]\n",
            " [200.]\n",
            " [200.]\n",
            " [200.]\n",
            " [200.]\n",
            " [200.]\n",
            " [200.]\n",
            " [200.]\n",
            " [200.]\n",
            " [200.]\n",
            " [200.]\n",
            " [200.]\n",
            " [200.]\n",
            " [200.]]\n"
          ]
        }
      ],
      "source": [
        "p, n = 10, 20\n",
        "M = np.ones((p,n,n))\n",
        "V = np.ones((p,n,1))\n",
        "S = np.tensordot(M, V, axes=[[0, 2], [0, 1]])\n",
        "print(S)"
      ]
    },
    {
      "cell_type": "markdown",
      "metadata": {
        "id": "3H_Kam_5OCz6"
      },
      "source": [
        "#### 87. Consider a 16x16 array, how to get the block-sum (block size is 4x4)? (★★★) \n",
        "(**hint**: np.add.reduceat)"
      ]
    },
    {
      "cell_type": "code",
      "execution_count": 183,
      "metadata": {
        "id": "wwuw02-1OCz6",
        "colab": {
          "base_uri": "https://localhost:8080/"
        },
        "outputId": "8974203a-00e5-4f63-f559-7f5be136679d"
      },
      "outputs": [
        {
          "output_type": "execute_result",
          "data": {
            "text/plain": [
              "array([[16., 16., 16., 16.],\n",
              "       [16., 16., 16., 16.],\n",
              "       [16., 16., 16., 16.],\n",
              "       [16., 16., 16., 16.]])"
            ]
          },
          "metadata": {},
          "execution_count": 183
        }
      ],
      "source": [
        "Z = np.ones((16,16))\n",
        "k = 4\n",
        "S = np.add.reduceat(np.add.reduceat(Z, np.arange(0, Z.shape[0], k), axis=0),np.arange(0, Z.shape[1], k), axis=1)\n",
        "S"
      ]
    },
    {
      "cell_type": "markdown",
      "metadata": {
        "id": "kz6erucQOCz7"
      },
      "source": [
        "#### 88. How to implement the Game of Life using numpy arrays? (★★★)"
      ]
    },
    {
      "cell_type": "code",
      "execution_count": 187,
      "metadata": {
        "id": "oYBw_WK0OCz7",
        "colab": {
          "base_uri": "https://localhost:8080/"
        },
        "outputId": "8f705c82-e38a-4306-a241-5df49b7f80e7"
      },
      "outputs": [
        {
          "output_type": "stream",
          "name": "stdout",
          "text": [
            "[[0 0 0 0 0 0 0 0 0 0 0 0 0 0 0 0 0 0 0 0 0 0 0 0 0 0 0 0 0 0 0 0 0 0 0 0\n",
            "  0 0 0 0 0 0 0 0 0 0 0 0 0 0]\n",
            " [0 0 0 0 0 0 0 0 0 0 0 0 0 0 0 0 0 0 0 0 0 0 0 0 0 0 0 0 0 0 0 0 0 0 0 0\n",
            "  1 1 0 0 0 0 0 0 0 0 0 0 0 0]\n",
            " [0 0 0 0 0 0 0 0 0 0 0 0 0 0 0 0 0 0 0 0 0 0 0 0 0 0 0 0 0 0 0 0 0 0 0 0\n",
            "  1 1 0 0 0 0 0 0 0 0 0 0 0 0]\n",
            " [0 0 0 0 0 0 0 0 0 0 0 0 0 0 0 0 0 0 0 0 1 0 1 0 0 0 0 0 0 0 0 0 0 0 0 0\n",
            "  0 0 0 0 0 0 0 0 0 0 0 0 0 0]\n",
            " [0 0 0 0 0 0 0 0 0 0 0 0 0 0 1 0 0 0 0 0 1 0 1 0 0 0 0 0 0 0 0 0 0 0 0 0\n",
            "  0 0 0 1 1 0 0 0 0 0 0 0 0 0]\n",
            " [0 0 0 0 0 0 0 0 0 0 0 0 0 1 1 0 0 0 0 0 0 1 0 0 0 0 0 0 0 0 0 0 0 0 0 0\n",
            "  0 0 0 1 1 0 0 0 0 0 0 0 0 0]\n",
            " [0 0 0 0 0 0 0 0 0 0 0 0 1 0 0 0 1 0 0 0 0 0 0 0 0 0 0 0 0 0 0 0 0 0 0 0\n",
            "  0 0 0 0 0 0 0 0 0 0 1 1 0 0]\n",
            " [0 0 0 0 0 0 0 0 0 0 0 0 0 1 1 0 0 1 0 0 0 0 0 0 0 0 0 0 0 0 0 0 0 0 0 0\n",
            "  0 0 0 0 0 0 0 0 0 0 1 1 0 0]\n",
            " [0 0 0 0 0 0 0 0 0 0 0 0 0 0 1 0 0 0 1 0 0 0 0 0 0 0 0 1 1 1 0 0 0 0 0 0\n",
            "  0 0 0 0 0 0 0 0 0 0 0 0 0 0]\n",
            " [0 0 0 0 0 0 0 0 0 0 0 0 0 0 0 1 0 1 0 0 0 0 0 0 0 0 0 0 0 0 0 0 0 0 0 0\n",
            "  0 0 0 0 0 0 0 0 0 0 0 0 0 0]\n",
            " [0 0 0 0 0 0 0 1 0 0 0 0 0 0 0 0 0 0 0 0 0 0 0 0 0 0 0 0 0 0 0 0 0 0 0 0\n",
            "  0 0 0 0 0 0 0 0 0 0 0 0 0 0]\n",
            " [0 0 0 0 0 0 0 1 0 0 0 0 0 0 0 0 0 0 0 0 0 0 0 0 0 0 0 0 0 0 0 0 0 0 0 0\n",
            "  0 0 0 0 0 0 0 0 0 0 0 0 0 0]\n",
            " [0 0 0 0 0 0 0 1 0 0 0 0 0 0 0 0 0 0 0 0 0 0 0 0 0 0 0 0 0 0 0 0 0 0 0 0\n",
            "  0 0 0 0 1 1 0 0 0 0 0 0 0 0]\n",
            " [0 0 0 0 0 0 0 0 0 0 0 0 0 0 0 0 0 1 1 1 0 0 0 0 0 0 0 0 0 0 0 0 0 0 0 0\n",
            "  0 0 0 1 0 0 1 0 0 0 0 0 0 0]\n",
            " [0 0 0 0 0 0 0 0 0 0 0 0 0 0 0 0 0 0 0 0 0 0 0 0 0 0 0 0 0 0 0 0 0 0 0 0\n",
            "  0 0 0 0 1 1 0 0 0 0 0 0 0 0]\n",
            " [0 0 0 0 0 0 0 0 0 0 0 0 0 0 0 0 0 0 0 0 0 0 0 0 0 0 0 0 0 0 0 0 0 0 0 0\n",
            "  0 0 0 0 0 0 0 0 0 0 0 0 0 0]\n",
            " [0 0 0 0 0 0 0 0 0 0 0 0 0 0 0 0 0 0 0 0 0 0 0 0 0 0 0 0 0 1 0 0 0 0 0 0\n",
            "  0 0 0 0 0 0 0 0 1 0 0 0 0 0]\n",
            " [0 0 0 0 0 0 0 0 0 0 0 0 0 0 0 0 0 0 0 0 0 0 0 0 0 0 0 1 1 0 1 1 0 0 0 0\n",
            "  0 0 0 0 0 0 0 0 1 1 0 0 0 0]\n",
            " [0 0 0 0 0 0 0 0 0 0 0 0 0 0 0 0 0 0 0 0 0 0 0 0 0 0 0 0 0 0 0 0 1 0 0 0\n",
            "  0 0 0 0 0 0 0 0 0 1 1 0 0 0]\n",
            " [0 0 0 0 0 0 0 0 0 0 0 0 0 0 0 0 0 0 0 0 0 0 0 0 0 0 0 0 0 0 0 0 0 0 0 0\n",
            "  0 0 0 0 0 0 0 0 1 1 1 0 0 0]\n",
            " [0 0 0 0 0 0 0 0 0 0 0 0 0 0 0 0 0 0 0 0 0 0 0 0 0 0 0 0 0 0 0 1 1 0 0 0\n",
            "  0 0 0 0 0 0 0 0 1 0 0 0 0 0]\n",
            " [0 0 0 0 0 0 0 0 0 0 0 0 0 0 0 0 0 0 0 0 0 0 0 0 0 0 0 0 1 1 0 0 0 0 0 0\n",
            "  0 0 0 0 0 0 0 0 0 0 0 1 0 0]\n",
            " [0 0 0 0 0 0 0 0 0 0 0 0 0 0 0 0 0 0 0 0 0 0 0 0 0 0 0 0 1 1 1 1 1 0 0 0\n",
            "  0 0 1 1 0 0 1 1 0 0 0 0 1 0]\n",
            " [0 0 0 0 0 0 0 0 0 0 0 0 0 0 0 0 0 0 0 0 0 0 0 1 1 0 0 0 0 0 0 0 0 0 0 0\n",
            "  0 0 1 1 0 0 1 1 0 0 0 1 0 0]\n",
            " [0 0 0 0 1 0 0 0 0 0 0 0 0 0 0 0 0 0 0 0 0 0 1 0 0 1 0 0 0 1 0 0 1 1 0 0\n",
            "  0 0 0 0 0 1 0 0 0 1 0 0 0 0]\n",
            " [0 0 0 1 0 1 0 0 0 0 0 0 0 0 0 0 0 0 0 0 0 0 1 0 0 1 0 0 0 1 0 1 0 1 0 0\n",
            "  0 0 0 0 0 1 1 1 1 0 0 0 0 0]\n",
            " [0 0 0 1 0 1 0 0 0 0 0 0 0 0 0 0 0 0 0 0 0 0 0 1 1 0 0 0 0 0 1 1 0 0 0 0\n",
            "  0 0 0 0 0 1 1 0 0 0 0 0 0 0]\n",
            " [0 0 0 0 1 0 0 0 0 1 1 0 0 0 0 0 0 0 0 0 0 0 0 0 0 0 0 0 0 0 0 1 1 0 1 1\n",
            "  0 0 0 1 0 1 1 1 0 0 0 0 0 0]\n",
            " [0 0 0 0 0 0 0 0 1 0 0 1 0 0 0 0 0 0 0 0 0 0 0 0 0 0 0 0 0 0 0 0 1 1 0 0\n",
            "  1 0 0 1 1 0 0 1 0 0 0 0 0 0]\n",
            " [0 0 0 0 0 0 0 1 0 0 0 0 0 0 0 0 0 0 0 0 0 0 0 0 0 0 0 0 0 0 0 0 1 0 0 0\n",
            "  1 0 0 0 1 1 1 0 0 0 0 0 0 0]\n",
            " [0 0 0 0 0 0 1 0 0 0 0 1 0 0 0 0 0 0 0 0 0 0 0 0 0 0 0 0 0 0 0 0 0 1 0 0\n",
            "  1 1 0 0 0 1 0 0 0 0 0 0 0 0]\n",
            " [0 0 0 0 0 0 1 0 1 0 1 1 0 0 0 0 0 0 0 0 0 0 0 0 0 0 0 0 0 0 0 0 1 1 0 1\n",
            "  1 0 0 0 0 0 0 0 0 0 0 0 0 0]\n",
            " [0 0 0 0 0 0 0 1 0 0 0 0 1 0 0 0 0 0 0 0 0 0 0 0 0 0 0 0 0 0 0 0 0 0 1 0\n",
            "  0 0 0 0 0 0 0 0 0 0 0 0 0 0]\n",
            " [0 0 0 0 0 0 0 0 0 1 0 0 0 0 0 0 0 0 1 1 1 0 0 0 0 0 0 0 0 0 0 0 0 0 0 0\n",
            "  0 0 0 0 0 0 1 1 0 0 0 0 0 0]\n",
            " [0 0 0 0 0 0 0 0 0 0 1 0 0 0 0 0 0 0 0 1 0 0 0 0 0 0 0 0 0 0 0 0 0 0 0 0\n",
            "  0 0 0 0 0 1 0 0 1 0 0 0 0 0]\n",
            " [0 0 0 0 0 0 0 0 0 0 1 0 0 1 0 0 0 0 0 1 1 1 0 0 0 0 0 0 0 0 0 0 0 0 0 0\n",
            "  0 0 0 0 0 0 1 1 0 0 0 0 0 0]\n",
            " [0 0 0 0 0 0 0 0 0 0 0 1 0 1 0 0 0 0 0 1 1 1 0 0 0 0 0 0 0 0 0 0 0 0 0 0\n",
            "  0 0 0 0 0 0 0 0 0 0 0 0 0 0]\n",
            " [0 0 0 0 0 0 0 0 0 0 0 0 1 0 0 0 0 0 0 1 0 1 0 0 0 0 0 0 0 0 0 0 0 0 0 0\n",
            "  0 0 0 0 0 0 0 0 0 0 0 0 0 0]\n",
            " [0 0 0 1 0 0 0 0 0 0 0 0 0 0 0 0 0 0 1 1 0 0 0 0 0 0 0 0 0 0 0 0 0 0 0 0\n",
            "  1 0 0 0 0 0 0 0 0 0 0 0 0 0]\n",
            " [0 0 1 0 1 0 0 0 0 0 0 0 0 0 0 0 0 0 0 0 0 0 0 0 0 0 0 0 0 0 0 0 0 0 0 1\n",
            "  0 1 0 0 0 0 0 0 0 0 0 0 0 0]\n",
            " [0 0 1 0 0 1 0 0 0 0 0 0 0 0 0 0 0 0 0 0 0 0 0 0 0 0 0 0 0 0 0 0 0 0 0 1\n",
            "  0 1 0 0 0 0 0 0 0 0 0 0 0 0]\n",
            " [0 0 0 1 1 0 0 0 0 0 0 0 0 0 0 0 0 0 0 0 0 0 0 0 0 0 0 0 0 0 0 0 0 0 0 0\n",
            "  1 0 0 0 0 0 0 0 0 0 0 0 0 0]\n",
            " [0 0 0 0 0 0 0 0 0 0 0 0 0 0 0 0 1 1 0 0 0 1 1 0 1 1 0 0 0 0 0 0 0 0 0 0\n",
            "  0 0 0 0 0 0 0 0 0 0 0 0 0 0]\n",
            " [0 0 0 0 0 0 0 0 0 0 0 0 0 0 0 0 1 0 1 1 0 1 0 0 1 0 1 1 0 0 0 0 0 0 0 0\n",
            "  0 0 0 0 0 0 0 0 0 0 0 0 0 0]\n",
            " [0 0 0 0 0 0 0 0 0 0 0 0 0 0 0 0 1 0 1 0 1 0 0 1 1 1 0 0 1 0 0 0 0 0 0 0\n",
            "  0 0 0 0 0 0 0 0 0 0 0 0 0 0]\n",
            " [0 0 0 0 0 0 0 0 0 0 0 0 0 0 0 0 0 0 0 1 0 0 0 0 0 0 1 0 1 0 0 0 0 0 0 0\n",
            "  0 0 0 0 0 0 0 0 0 0 0 0 0 0]\n",
            " [0 0 0 0 0 0 0 0 0 0 0 0 0 0 0 0 0 0 1 1 0 0 0 0 0 1 1 1 0 0 0 0 0 0 0 0\n",
            "  0 0 0 0 0 0 0 0 0 0 0 0 0 0]\n",
            " [0 0 0 0 0 0 0 0 0 0 0 0 0 0 0 0 0 0 1 1 1 0 0 0 1 0 0 0 0 0 0 0 0 0 0 0\n",
            "  0 0 0 0 0 0 0 0 0 0 0 0 0 0]\n",
            " [0 0 0 0 0 0 0 0 0 0 0 0 0 0 0 0 0 0 0 0 0 0 0 0 0 0 0 0 0 0 0 0 0 0 0 0\n",
            "  0 0 0 0 0 0 0 0 0 0 0 0 0 0]\n",
            " [0 0 0 0 0 0 0 0 0 0 0 0 0 0 0 0 0 0 0 0 0 0 0 0 0 0 0 0 0 0 0 0 0 0 0 0\n",
            "  0 0 0 0 0 0 0 0 0 0 0 0 0 0]]\n"
          ]
        }
      ],
      "source": [
        "def iterate(Z):\n",
        "    # Count neighbours\n",
        "    N = (Z[0:-2,0:-2] + Z[0:-2,1:-1] + Z[0:-2,2:] +\n",
        "         Z[1:-1,0:-2]                + Z[1:-1,2:] +\n",
        "         Z[2:  ,0:-2] + Z[2:  ,1:-1] + Z[2:  ,2:])\n",
        "    # Apply rules\n",
        "    birth = (N==3) & (Z[1:-1,1:-1]==0)\n",
        "    survive = ((N==2) | (N==3)) & (Z[1:-1,1:-1]==1)\n",
        "    Z[...] = 0\n",
        "    Z[1:-1,1:-1][birth | survive] = 1\n",
        "    return Z\n",
        "\n",
        "Z = np.random.randint(0,2,(50,50))\n",
        "for i in range(100): Z = iterate(Z)\n",
        "print(Z)"
      ]
    },
    {
      "cell_type": "markdown",
      "metadata": {
        "id": "4gS4fvG0OCz7"
      },
      "source": [
        "#### 89. How to get the n largest values of an array (★★★) \n",
        "(**hint**: np.argsort | np.argpartition)"
      ]
    },
    {
      "cell_type": "code",
      "execution_count": 188,
      "metadata": {
        "id": "rX70sfMuOCz7",
        "colab": {
          "base_uri": "https://localhost:8080/"
        },
        "outputId": "bdc5c6f6-ef5c-4a3c-b639-15f512c20e5d"
      },
      "outputs": [
        {
          "output_type": "stream",
          "name": "stdout",
          "text": [
            "[9995 9996 9997 9998 9999]\n",
            "[9997 9996 9999 9998 9995]\n"
          ]
        }
      ],
      "source": [
        "Z = np.arange(10000)\n",
        "np.random.shuffle(Z)\n",
        "n = 5\n",
        "print (Z[np.argsort(Z)[-n:]])\n",
        "print (Z[np.argpartition(-Z,n)[:n]])"
      ]
    },
    {
      "cell_type": "markdown",
      "metadata": {
        "id": "4I65KWezOCz7"
      },
      "source": [
        "#### 90. Given an arbitrary number of vectors, build the cartesian product (every combinations of every item) (★★★) \n",
        "(**hint**: np.indices)"
      ]
    },
    {
      "cell_type": "code",
      "execution_count": 195,
      "metadata": {
        "scrolled": true,
        "id": "R_BuntMDOCz7"
      },
      "outputs": [],
      "source": [
        ""
      ]
    },
    {
      "cell_type": "markdown",
      "metadata": {
        "id": "Lmbfu5evOCz7"
      },
      "source": [
        "#### 91. How to create a record array from a regular array? (★★★) \n",
        "(**hint**: np.core.records.fromarrays)"
      ]
    },
    {
      "cell_type": "code",
      "execution_count": 196,
      "metadata": {
        "id": "EhfdMzfwOCz7",
        "colab": {
          "base_uri": "https://localhost:8080/"
        },
        "outputId": "a735e2d0-48ce-48ef-d8ab-4ed1752d092c"
      },
      "outputs": [
        {
          "output_type": "stream",
          "name": "stdout",
          "text": [
            "[(b'Hello', 5.5, 2) (b'World', 9.3, 5)]\n"
          ]
        }
      ],
      "source": [
        "a= np.array([(\"Hello\", 5.5, 2),(\"World\", 9.3, 5)])\n",
        "b= np.core.records.fromarrays(a.T,names='col1, col2, col3',formats = 'S8, f8, i8')\n",
        "print(b)"
      ]
    },
    {
      "cell_type": "markdown",
      "metadata": {
        "id": "4AES4k5XOCz8"
      },
      "source": [
        "#### 92. Consider a large vector Z, compute Z to the power of 3 using 3 different methods (★★★) \n",
        "(**hint**: np.power, \\*, np.einsum)"
      ]
    },
    {
      "cell_type": "code",
      "execution_count": 197,
      "metadata": {
        "id": "Y2AZmfqHOCz8"
      },
      "outputs": [],
      "source": [
        ""
      ]
    },
    {
      "cell_type": "markdown",
      "metadata": {
        "id": "qRJYxtNeOCz8"
      },
      "source": [
        "#### 93. Consider two arrays A and B of shape (8,3) and (2,2). How to find rows of A that contain elements of each row of B regardless of the order of the elements in B? (★★★) \n",
        "(**hint**: np.where)"
      ]
    },
    {
      "cell_type": "code",
      "execution_count": 199,
      "metadata": {
        "id": "EI-HprThOCz8",
        "colab": {
          "base_uri": "https://localhost:8080/"
        },
        "outputId": "de095111-e513-4129-88da-c0df6fac3e6a"
      },
      "outputs": [
        {
          "output_type": "stream",
          "name": "stdout",
          "text": [
            "[0 1 2 5 7]\n"
          ]
        }
      ],
      "source": [
        "a= np.random.randint(0,5,(8,3))\n",
        "b= np.random.randint(0,5,(2,2))\n",
        "c= (a[..., np.newaxis, np.newaxis] ==b)\n",
        "r=np.where(c.any((3,1)).all(1))[0]\n",
        "print(r)"
      ]
    },
    {
      "cell_type": "markdown",
      "metadata": {
        "id": "p6WeDkuUOCz8"
      },
      "source": [
        "#### 94. Considering a 10x3 matrix, extract rows with unequal values (e.g. \\[2,2,3\\]) (★★★)"
      ]
    },
    {
      "cell_type": "code",
      "execution_count": null,
      "metadata": {
        "id": "pUuQpi39OCz8"
      },
      "outputs": [],
      "source": [
        "a=np.random.randint(0,5,(10,3))\n",
        "print(a)\n",
        "u=a[~(a[:,0,None]==Z[:,1:]).all(axis=1)]\n",
        "print(U)"
      ]
    },
    {
      "cell_type": "markdown",
      "metadata": {
        "id": "6EFEJE0oOCz8"
      },
      "source": [
        "#### 95. Convert a vector of ints into a matrix binary representation (★★★) \n",
        "(**hint**: np.unpackbits)"
      ]
    },
    {
      "cell_type": "code",
      "execution_count": null,
      "metadata": {
        "id": "JKo5DVhdOCz8"
      },
      "outputs": [],
      "source": [
        ""
      ]
    },
    {
      "cell_type": "markdown",
      "metadata": {
        "id": "AMBqwS0XOCz8"
      },
      "source": [
        "#### 96. Given a two dimensional array, how to extract unique rows? (★★★) \n",
        "(**hint**: np.ascontiguousarray)"
      ]
    },
    {
      "cell_type": "code",
      "execution_count": null,
      "metadata": {
        "id": "TabmXtuKOCz8"
      },
      "outputs": [],
      "source": [
        ""
      ]
    },
    {
      "cell_type": "markdown",
      "metadata": {
        "id": "VntYSGiIOCz8"
      },
      "source": [
        "#### 97. Considering 2 vectors A & B, write the einsum equivalent of inner, outer, sum, and mul function (★★★) \n",
        "(**hint**: np.einsum)"
      ]
    },
    {
      "cell_type": "code",
      "execution_count": null,
      "metadata": {
        "id": "TQ9LFaCkOCz9"
      },
      "outputs": [],
      "source": [
        ""
      ]
    },
    {
      "cell_type": "markdown",
      "metadata": {
        "id": "VmtruvQhOCz9"
      },
      "source": [
        "#### 98. Considering a path described by two vectors (X,Y), how to sample it using equidistant samples (★★★)? \n",
        "(**hint**: np.cumsum, np.interp)"
      ]
    },
    {
      "cell_type": "code",
      "execution_count": null,
      "metadata": {
        "collapsed": true,
        "id": "OEw_3IJVOCz9"
      },
      "outputs": [],
      "source": [
        ""
      ]
    },
    {
      "cell_type": "markdown",
      "metadata": {
        "id": "QIvNS0vEOCz9"
      },
      "source": [
        "#### 99. Given an integer n and a 2D array X, select from X the rows which can be interpreted as draws from a multinomial distribution with n degrees, i.e., the rows which only contain integers and which sum to n. (★★★) \n",
        "(**hint**: np.logical\\_and.reduce, np.mod)"
      ]
    },
    {
      "cell_type": "code",
      "execution_count": null,
      "metadata": {
        "id": "QqBFj0XFOCz9"
      },
      "outputs": [],
      "source": [
        ""
      ]
    },
    {
      "cell_type": "markdown",
      "metadata": {
        "id": "9RWdXxu2OCz9"
      },
      "source": [
        "#### 100. Compute bootstrapped 95% confidence intervals for the mean of a 1D array X (i.e., resample the elements of an array with replacement N times, compute the mean of each sample, and then compute percentiles over the means). (★★★) \n",
        "(**hint**: np.percentile)"
      ]
    },
    {
      "cell_type": "code",
      "execution_count": null,
      "metadata": {
        "id": "8pk2KrjBOCz9"
      },
      "outputs": [],
      "source": [
        ""
      ]
    }
  ],
  "metadata": {
    "kernelspec": {
      "display_name": "Python 3",
      "language": "python",
      "name": "python3"
    },
    "language_info": {
      "codemirror_mode": {
        "name": "ipython",
        "version": 3
      },
      "file_extension": ".py",
      "mimetype": "text/x-python",
      "name": "python",
      "nbconvert_exporter": "python",
      "pygments_lexer": "ipython3",
      "version": "3.8.3"
    },
    "colab": {
      "name": "Numpy_tasks.ipynb",
      "provenance": [],
      "collapsed_sections": [
        "m9U2Oo39OCz5",
        "6EFEJE0oOCz8",
        "VntYSGiIOCz8",
        "VmtruvQhOCz9",
        "QIvNS0vEOCz9",
        "9RWdXxu2OCz9"
      ]
    }
  },
  "nbformat": 4,
  "nbformat_minor": 0
}